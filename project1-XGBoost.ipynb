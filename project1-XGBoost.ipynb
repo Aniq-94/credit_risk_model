{
 "cells": [
  {
   "cell_type": "code",
   "execution_count": 3,
   "id": "16e23a23",
   "metadata": {},
   "outputs": [],
   "source": [
    "import pandas as pd\n",
    "import numpy as np\n",
    "import xgboost as xgb\n",
    "from sklearn.preprocessing import OneHotEncoder, StandardScaler\n",
    "from sklearn.model_selection import train_test_split\n",
    "from sklearn.metrics import roc_auc_score\n",
    "from sklearn.model_selection import GridSearchCV"
   ]
  },
  {
   "cell_type": "code",
   "execution_count": 2,
   "id": "dcf676c2",
   "metadata": {},
   "outputs": [
    {
     "ename": "NameError",
     "evalue": "name 'pd' is not defined",
     "output_type": "error",
     "traceback": [
      "\u001b[1;31m---------------------------------------------------------------------------\u001b[0m",
      "\u001b[1;31mNameError\u001b[0m                                 Traceback (most recent call last)",
      "Cell \u001b[1;32mIn[2], line 4\u001b[0m\n\u001b[0;32m      1\u001b[0m file_path_data \u001b[38;5;241m=\u001b[39m \u001b[38;5;124mr\u001b[39m\u001b[38;5;124m\"\u001b[39m\u001b[38;5;124mC:\u001b[39m\u001b[38;5;124m\\\u001b[39m\u001b[38;5;124mUsers\u001b[39m\u001b[38;5;124m\\\u001b[39m\u001b[38;5;124maniqa\u001b[39m\u001b[38;5;124m\\\u001b[39m\u001b[38;5;124mDesktop\u001b[39m\u001b[38;5;124m\\\u001b[39m\u001b[38;5;124mCourses\u001b[39m\u001b[38;5;124m\\\u001b[39m\u001b[38;5;124mSemester_2\u001b[39m\u001b[38;5;124m\\\u001b[39m\u001b[38;5;124mMachine_Learning\u001b[39m\u001b[38;5;124m\\\u001b[39m\u001b[38;5;124mProject 1\u001b[39m\u001b[38;5;124m\\\u001b[39m\u001b[38;5;124mCode\u001b[39m\u001b[38;5;124m\\\u001b[39m\u001b[38;5;124mtrain_data.csv\u001b[39m\u001b[38;5;124m\"\u001b[39m\n\u001b[0;32m      2\u001b[0m file_path_labels \u001b[38;5;241m=\u001b[39m \u001b[38;5;124mr\u001b[39m\u001b[38;5;124m\"\u001b[39m\u001b[38;5;124mC:\u001b[39m\u001b[38;5;124m\\\u001b[39m\u001b[38;5;124mUsers\u001b[39m\u001b[38;5;124m\\\u001b[39m\u001b[38;5;124maniqa\u001b[39m\u001b[38;5;124m\\\u001b[39m\u001b[38;5;124mDesktop\u001b[39m\u001b[38;5;124m\\\u001b[39m\u001b[38;5;124mCourses\u001b[39m\u001b[38;5;124m\\\u001b[39m\u001b[38;5;124mSemester_2\u001b[39m\u001b[38;5;124m\\\u001b[39m\u001b[38;5;124mMachine_Learning\u001b[39m\u001b[38;5;124m\\\u001b[39m\u001b[38;5;124mProject 1\u001b[39m\u001b[38;5;124m\\\u001b[39m\u001b[38;5;124mCode\u001b[39m\u001b[38;5;124m\\\u001b[39m\u001b[38;5;124mtrain_labels.csv\u001b[39m\u001b[38;5;124m\"\u001b[39m\n\u001b[1;32m----> 4\u001b[0m data \u001b[38;5;241m=\u001b[39m \u001b[43mpd\u001b[49m\u001b[38;5;241m.\u001b[39mread_csv(file_path_data, nrows \u001b[38;5;241m=\u001b[39m \u001b[38;5;241m1440000\u001b[39m)\n\u001b[0;32m      6\u001b[0m labels \u001b[38;5;241m=\u001b[39m pd\u001b[38;5;241m.\u001b[39mread_csv(file_path_labels)\n",
      "\u001b[1;31mNameError\u001b[0m: name 'pd' is not defined"
     ]
    }
   ],
   "source": [
    "file_path_data = r\"C:\\Users\\aniqa\\Desktop\\Courses\\Semester_2\\Machine_Learning\\Project 1\\Code\\train_data.csv\"\n",
    "file_path_labels = r\"C:\\Users\\aniqa\\Desktop\\Courses\\Semester_2\\Machine_Learning\\Project 1\\Code\\train_labels.csv\"\n",
    "\n",
    "data = pd.read_csv(file_path_data, nrows = 1440000)\n",
    "\n",
    "labels = pd.read_csv(file_path_labels)"
   ]
  },
  {
   "cell_type": "code",
   "execution_count": 4,
   "id": "d8af93e6",
   "metadata": {},
   "outputs": [
    {
     "name": "stdout",
     "output_type": "stream",
     "text": [
      "<bound method NDFrame.head of                                                customer_ID         S_2  \\\n",
      "0        0000099d6bd597052cdcda90ffabf56573fe9d7c79be5f...  2017-03-09   \n",
      "1        0000099d6bd597052cdcda90ffabf56573fe9d7c79be5f...  2017-04-07   \n",
      "2        0000099d6bd597052cdcda90ffabf56573fe9d7c79be5f...  2017-05-28   \n",
      "3        0000099d6bd597052cdcda90ffabf56573fe9d7c79be5f...  2017-06-13   \n",
      "4        0000099d6bd597052cdcda90ffabf56573fe9d7c79be5f...  2017-07-16   \n",
      "...                                                    ...         ...   \n",
      "1439995  425d5532a25f20815166956bc7fb3a49928f4c49517e1c...  2017-06-29   \n",
      "1439996  425d5532a25f20815166956bc7fb3a49928f4c49517e1c...  2017-07-29   \n",
      "1439997  425d5532a25f20815166956bc7fb3a49928f4c49517e1c...  2017-08-30   \n",
      "1439998  425d5532a25f20815166956bc7fb3a49928f4c49517e1c...  2017-09-29   \n",
      "1439999  425d5532a25f20815166956bc7fb3a49928f4c49517e1c...  2017-10-30   \n",
      "\n",
      "              P_2      D_39       B_1       B_2       R_1       S_3      D_41  \\\n",
      "0        0.938469  0.001733  0.008724  1.006838  0.009228  0.124035  0.008771   \n",
      "1        0.936665  0.005775  0.004923  1.000653  0.006151  0.126750  0.000798   \n",
      "2        0.954180  0.091505  0.021655  1.009672  0.006815  0.123977  0.007598   \n",
      "3        0.960384  0.002455  0.013683  1.002700  0.001373  0.117169  0.000685   \n",
      "4        0.947248  0.002483  0.015193  1.000727  0.007605  0.117325  0.004653   \n",
      "...           ...       ...       ...       ...       ...       ...       ...   \n",
      "1439995  0.874078  0.004086  0.008672  0.815791  0.005246       NaN  0.008112   \n",
      "1439996  0.872043  0.007395  0.001348  0.819464  0.004784       NaN  0.009488   \n",
      "1439997  0.867252  0.008150  0.008059  0.818707  0.007366       NaN  0.005170   \n",
      "1439998  0.934603  0.002312  0.006102  0.816108  0.003532       NaN  0.000250   \n",
      "1439999  0.938461  0.005231  0.000666  0.810569  0.007312       NaN  0.004932   \n",
      "\n",
      "              B_3  ...  D_136  D_137  D_138     D_139     D_140     D_141  \\\n",
      "0        0.004709  ...    NaN    NaN    NaN  0.002427  0.003706  0.003818   \n",
      "1        0.002714  ...    NaN    NaN    NaN  0.003954  0.003167  0.005032   \n",
      "2        0.009423  ...    NaN    NaN    NaN  0.003269  0.007329  0.000427   \n",
      "3        0.005531  ...    NaN    NaN    NaN  0.006117  0.004516  0.003200   \n",
      "4        0.009312  ...    NaN    NaN    NaN  0.003671  0.004946  0.008889   \n",
      "...           ...  ...    ...    ...    ...       ...       ...       ...   \n",
      "1439995  0.006125  ...    NaN    NaN    NaN  0.002196  0.006976  0.004546   \n",
      "1439996  0.008950  ...    NaN    NaN    NaN  0.002335  0.005112  0.003713   \n",
      "1439997  0.000103  ...    NaN    NaN    NaN  0.005987  0.008728  0.004927   \n",
      "1439998  0.000844  ...    NaN    NaN    NaN  0.006903  0.004097  0.009254   \n",
      "1439999  0.002325  ...    NaN    NaN    NaN  0.008898  0.006947  0.008566   \n",
      "\n",
      "         D_142     D_143     D_144     D_145  \n",
      "0          NaN  0.000569  0.000610  0.002674  \n",
      "1          NaN  0.009576  0.005492  0.009217  \n",
      "2          NaN  0.003429  0.006986  0.002603  \n",
      "3          NaN  0.008419  0.006527  0.009600  \n",
      "4          NaN  0.001670  0.008126  0.009827  \n",
      "...        ...       ...       ...       ...  \n",
      "1439995    NaN  0.009514  0.002603  0.009218  \n",
      "1439996    NaN  0.000811  0.008883  0.001153  \n",
      "1439997    NaN  0.007416  0.006252  0.002668  \n",
      "1439998    NaN  0.005879  0.002002  0.005971  \n",
      "1439999    NaN  0.001507  0.001307  0.009375  \n",
      "\n",
      "[1440000 rows x 190 columns]>\n"
     ]
    }
   ],
   "source": [
    "print(data.head)"
   ]
  },
  {
   "cell_type": "code",
   "execution_count": 5,
   "id": "8d089444",
   "metadata": {},
   "outputs": [
    {
     "data": {
      "text/html": [
       "<div>\n",
       "<style scoped>\n",
       "    .dataframe tbody tr th:only-of-type {\n",
       "        vertical-align: middle;\n",
       "    }\n",
       "\n",
       "    .dataframe tbody tr th {\n",
       "        vertical-align: top;\n",
       "    }\n",
       "\n",
       "    .dataframe thead th {\n",
       "        text-align: right;\n",
       "    }\n",
       "</style>\n",
       "<table border=\"1\" class=\"dataframe\">\n",
       "  <thead>\n",
       "    <tr style=\"text-align: right;\">\n",
       "      <th></th>\n",
       "      <th>customer_ID</th>\n",
       "      <th>S_2</th>\n",
       "      <th>P_2</th>\n",
       "      <th>D_39</th>\n",
       "      <th>B_1</th>\n",
       "      <th>B_2</th>\n",
       "      <th>R_1</th>\n",
       "      <th>S_3</th>\n",
       "      <th>D_41</th>\n",
       "      <th>B_3</th>\n",
       "      <th>...</th>\n",
       "      <th>D_136</th>\n",
       "      <th>D_137</th>\n",
       "      <th>D_138</th>\n",
       "      <th>D_139</th>\n",
       "      <th>D_140</th>\n",
       "      <th>D_141</th>\n",
       "      <th>D_142</th>\n",
       "      <th>D_143</th>\n",
       "      <th>D_144</th>\n",
       "      <th>D_145</th>\n",
       "    </tr>\n",
       "  </thead>\n",
       "  <tbody>\n",
       "    <tr>\n",
       "      <th>1439995</th>\n",
       "      <td>425d5532a25f20815166956bc7fb3a49928f4c49517e1c...</td>\n",
       "      <td>2017-06-29</td>\n",
       "      <td>0.874078</td>\n",
       "      <td>0.004086</td>\n",
       "      <td>0.008672</td>\n",
       "      <td>0.815791</td>\n",
       "      <td>0.005246</td>\n",
       "      <td>NaN</td>\n",
       "      <td>0.008112</td>\n",
       "      <td>0.006125</td>\n",
       "      <td>...</td>\n",
       "      <td>NaN</td>\n",
       "      <td>NaN</td>\n",
       "      <td>NaN</td>\n",
       "      <td>0.002196</td>\n",
       "      <td>0.006976</td>\n",
       "      <td>0.004546</td>\n",
       "      <td>NaN</td>\n",
       "      <td>0.009514</td>\n",
       "      <td>0.002603</td>\n",
       "      <td>0.009218</td>\n",
       "    </tr>\n",
       "    <tr>\n",
       "      <th>1439996</th>\n",
       "      <td>425d5532a25f20815166956bc7fb3a49928f4c49517e1c...</td>\n",
       "      <td>2017-07-29</td>\n",
       "      <td>0.872043</td>\n",
       "      <td>0.007395</td>\n",
       "      <td>0.001348</td>\n",
       "      <td>0.819464</td>\n",
       "      <td>0.004784</td>\n",
       "      <td>NaN</td>\n",
       "      <td>0.009488</td>\n",
       "      <td>0.008950</td>\n",
       "      <td>...</td>\n",
       "      <td>NaN</td>\n",
       "      <td>NaN</td>\n",
       "      <td>NaN</td>\n",
       "      <td>0.002335</td>\n",
       "      <td>0.005112</td>\n",
       "      <td>0.003713</td>\n",
       "      <td>NaN</td>\n",
       "      <td>0.000811</td>\n",
       "      <td>0.008883</td>\n",
       "      <td>0.001153</td>\n",
       "    </tr>\n",
       "    <tr>\n",
       "      <th>1439997</th>\n",
       "      <td>425d5532a25f20815166956bc7fb3a49928f4c49517e1c...</td>\n",
       "      <td>2017-08-30</td>\n",
       "      <td>0.867252</td>\n",
       "      <td>0.008150</td>\n",
       "      <td>0.008059</td>\n",
       "      <td>0.818707</td>\n",
       "      <td>0.007366</td>\n",
       "      <td>NaN</td>\n",
       "      <td>0.005170</td>\n",
       "      <td>0.000103</td>\n",
       "      <td>...</td>\n",
       "      <td>NaN</td>\n",
       "      <td>NaN</td>\n",
       "      <td>NaN</td>\n",
       "      <td>0.005987</td>\n",
       "      <td>0.008728</td>\n",
       "      <td>0.004927</td>\n",
       "      <td>NaN</td>\n",
       "      <td>0.007416</td>\n",
       "      <td>0.006252</td>\n",
       "      <td>0.002668</td>\n",
       "    </tr>\n",
       "    <tr>\n",
       "      <th>1439998</th>\n",
       "      <td>425d5532a25f20815166956bc7fb3a49928f4c49517e1c...</td>\n",
       "      <td>2017-09-29</td>\n",
       "      <td>0.934603</td>\n",
       "      <td>0.002312</td>\n",
       "      <td>0.006102</td>\n",
       "      <td>0.816108</td>\n",
       "      <td>0.003532</td>\n",
       "      <td>NaN</td>\n",
       "      <td>0.000250</td>\n",
       "      <td>0.000844</td>\n",
       "      <td>...</td>\n",
       "      <td>NaN</td>\n",
       "      <td>NaN</td>\n",
       "      <td>NaN</td>\n",
       "      <td>0.006903</td>\n",
       "      <td>0.004097</td>\n",
       "      <td>0.009254</td>\n",
       "      <td>NaN</td>\n",
       "      <td>0.005879</td>\n",
       "      <td>0.002002</td>\n",
       "      <td>0.005971</td>\n",
       "    </tr>\n",
       "    <tr>\n",
       "      <th>1439999</th>\n",
       "      <td>425d5532a25f20815166956bc7fb3a49928f4c49517e1c...</td>\n",
       "      <td>2017-10-30</td>\n",
       "      <td>0.938461</td>\n",
       "      <td>0.005231</td>\n",
       "      <td>0.000666</td>\n",
       "      <td>0.810569</td>\n",
       "      <td>0.007312</td>\n",
       "      <td>NaN</td>\n",
       "      <td>0.004932</td>\n",
       "      <td>0.002325</td>\n",
       "      <td>...</td>\n",
       "      <td>NaN</td>\n",
       "      <td>NaN</td>\n",
       "      <td>NaN</td>\n",
       "      <td>0.008898</td>\n",
       "      <td>0.006947</td>\n",
       "      <td>0.008566</td>\n",
       "      <td>NaN</td>\n",
       "      <td>0.001507</td>\n",
       "      <td>0.001307</td>\n",
       "      <td>0.009375</td>\n",
       "    </tr>\n",
       "  </tbody>\n",
       "</table>\n",
       "<p>5 rows × 190 columns</p>\n",
       "</div>"
      ],
      "text/plain": [
       "                                               customer_ID        S_2  \\\n",
       "1439995  425d5532a25f20815166956bc7fb3a49928f4c49517e1c... 2017-06-29   \n",
       "1439996  425d5532a25f20815166956bc7fb3a49928f4c49517e1c... 2017-07-29   \n",
       "1439997  425d5532a25f20815166956bc7fb3a49928f4c49517e1c... 2017-08-30   \n",
       "1439998  425d5532a25f20815166956bc7fb3a49928f4c49517e1c... 2017-09-29   \n",
       "1439999  425d5532a25f20815166956bc7fb3a49928f4c49517e1c... 2017-10-30   \n",
       "\n",
       "              P_2      D_39       B_1       B_2       R_1  S_3      D_41  \\\n",
       "1439995  0.874078  0.004086  0.008672  0.815791  0.005246  NaN  0.008112   \n",
       "1439996  0.872043  0.007395  0.001348  0.819464  0.004784  NaN  0.009488   \n",
       "1439997  0.867252  0.008150  0.008059  0.818707  0.007366  NaN  0.005170   \n",
       "1439998  0.934603  0.002312  0.006102  0.816108  0.003532  NaN  0.000250   \n",
       "1439999  0.938461  0.005231  0.000666  0.810569  0.007312  NaN  0.004932   \n",
       "\n",
       "              B_3  ...  D_136  D_137  D_138     D_139     D_140     D_141  \\\n",
       "1439995  0.006125  ...    NaN    NaN    NaN  0.002196  0.006976  0.004546   \n",
       "1439996  0.008950  ...    NaN    NaN    NaN  0.002335  0.005112  0.003713   \n",
       "1439997  0.000103  ...    NaN    NaN    NaN  0.005987  0.008728  0.004927   \n",
       "1439998  0.000844  ...    NaN    NaN    NaN  0.006903  0.004097  0.009254   \n",
       "1439999  0.002325  ...    NaN    NaN    NaN  0.008898  0.006947  0.008566   \n",
       "\n",
       "         D_142     D_143     D_144     D_145  \n",
       "1439995    NaN  0.009514  0.002603  0.009218  \n",
       "1439996    NaN  0.000811  0.008883  0.001153  \n",
       "1439997    NaN  0.007416  0.006252  0.002668  \n",
       "1439998    NaN  0.005879  0.002002  0.005971  \n",
       "1439999    NaN  0.001507  0.001307  0.009375  \n",
       "\n",
       "[5 rows x 190 columns]"
      ]
     },
     "execution_count": 5,
     "metadata": {},
     "output_type": "execute_result"
    }
   ],
   "source": [
    "data['S_2'] = pd.to_datetime(data['S_2'])\n",
    "#data = data.groupby('customer_ID')\n",
    "data.tail(5)"
   ]
  },
  {
   "cell_type": "code",
   "execution_count": null,
   "id": "3f871636",
   "metadata": {},
   "outputs": [],
   "source": []
  },
  {
   "cell_type": "markdown",
   "id": "942948e6",
   "metadata": {},
   "source": [
    "We must have complete data for each customer, so we will remove the last customer ID from the data"
   ]
  },
  {
   "cell_type": "code",
   "execution_count": 6,
   "id": "bcbb0178",
   "metadata": {},
   "outputs": [
    {
     "name": "stdout",
     "output_type": "stream",
     "text": [
      "425d5532a25f20815166956bc7fb3a49928f4c49517e1c59f9843f13a8aad690\n"
     ]
    }
   ],
   "source": [
    "last_customer_id = data['customer_ID'].iloc[-1]\n",
    "print(last_customer_id)"
   ]
  },
  {
   "cell_type": "markdown",
   "id": "0260cce0",
   "metadata": {},
   "source": [
    "Now we will remove this customer ID from the dataset, so that we only have complete information for all the customers."
   ]
  },
  {
   "cell_type": "code",
   "execution_count": 7,
   "id": "8bdb06f3",
   "metadata": {},
   "outputs": [
    {
     "name": "stdout",
     "output_type": "stream",
     "text": [
      "<bound method NDFrame.tail of                                                customer_ID        S_2  \\\n",
      "0        0000099d6bd597052cdcda90ffabf56573fe9d7c79be5f... 2017-03-09   \n",
      "1        0000099d6bd597052cdcda90ffabf56573fe9d7c79be5f... 2017-04-07   \n",
      "2        0000099d6bd597052cdcda90ffabf56573fe9d7c79be5f... 2017-05-28   \n",
      "3        0000099d6bd597052cdcda90ffabf56573fe9d7c79be5f... 2017-06-13   \n",
      "4        0000099d6bd597052cdcda90ffabf56573fe9d7c79be5f... 2017-07-16   \n",
      "...                                                    ...        ...   \n",
      "1439987  425d3742a1fd67755c431a132257d18e81234fc36985cd... 2017-11-02   \n",
      "1439988  425d3742a1fd67755c431a132257d18e81234fc36985cd... 2017-12-22   \n",
      "1439989  425d3742a1fd67755c431a132257d18e81234fc36985cd... 2018-01-18   \n",
      "1439990  425d3742a1fd67755c431a132257d18e81234fc36985cd... 2018-02-18   \n",
      "1439991  425d3742a1fd67755c431a132257d18e81234fc36985cd... 2018-03-12   \n",
      "\n",
      "              P_2      D_39       B_1       B_2       R_1       S_3      D_41  \\\n",
      "0        0.938469  0.001733  0.008724  1.006838  0.009228  0.124035  0.008771   \n",
      "1        0.936665  0.005775  0.004923  1.000653  0.006151  0.126750  0.000798   \n",
      "2        0.954180  0.091505  0.021655  1.009672  0.006815  0.123977  0.007598   \n",
      "3        0.960384  0.002455  0.013683  1.002700  0.001373  0.117169  0.000685   \n",
      "4        0.947248  0.002483  0.015193  1.000727  0.007605  0.117325  0.004653   \n",
      "...           ...       ...       ...       ...       ...       ...       ...   \n",
      "1439987  0.849775  0.005104  0.010486  1.003217  0.003182  0.150330  0.000860   \n",
      "1439988  0.851198  0.004490  0.014734  1.006323  0.000302  0.138393  0.009412   \n",
      "1439989  0.805918  0.298139  0.014284  1.005040  0.006340  0.135215  0.001861   \n",
      "1439990  0.801010  0.385806  0.019405  1.008273  0.005823  0.132571  0.001117   \n",
      "1439991  0.835906  0.119807  0.016720  1.005346  0.004553  0.123686  0.000462   \n",
      "\n",
      "              B_3  ...  D_136  D_137  D_138     D_139     D_140     D_141  \\\n",
      "0        0.004709  ...    NaN    NaN    NaN  0.002427  0.003706  0.003818   \n",
      "1        0.002714  ...    NaN    NaN    NaN  0.003954  0.003167  0.005032   \n",
      "2        0.009423  ...    NaN    NaN    NaN  0.003269  0.007329  0.000427   \n",
      "3        0.005531  ...    NaN    NaN    NaN  0.006117  0.004516  0.003200   \n",
      "4        0.009312  ...    NaN    NaN    NaN  0.003671  0.004946  0.008889   \n",
      "...           ...  ...    ...    ...    ...       ...       ...       ...   \n",
      "1439987  0.003142  ...    NaN    NaN    NaN  1.007058  0.004694  0.998317   \n",
      "1439988  0.004341  ...    NaN    NaN    NaN  1.003214  0.003488  1.000071   \n",
      "1439989  0.002924  ...    NaN    NaN    NaN  1.008916  0.001093  0.994132   \n",
      "1439990  0.007921  ...    NaN    NaN    NaN  1.000475  0.001057  1.001628   \n",
      "1439991  0.003511  ...    NaN    NaN    NaN  1.009225  0.004313  1.001021   \n",
      "\n",
      "            D_142     D_143     D_144     D_145  \n",
      "0             NaN  0.000569  0.000610  0.002674  \n",
      "1             NaN  0.009576  0.005492  0.009217  \n",
      "2             NaN  0.003429  0.006986  0.002603  \n",
      "3             NaN  0.008419  0.006527  0.009600  \n",
      "4             NaN  0.001670  0.008126  0.009827  \n",
      "...           ...       ...       ...       ...  \n",
      "1439987  0.636693  1.007044  0.343181  0.097249  \n",
      "1439988  0.648364  1.006816  0.343017  0.098441  \n",
      "1439989  0.643986  1.005871  0.341721  0.094478  \n",
      "1439990  0.654863  1.002669  0.334294  0.091886  \n",
      "1439991  0.650735  1.000669  0.340694  0.094627  \n",
      "\n",
      "[1439992 rows x 190 columns]>\n"
     ]
    }
   ],
   "source": [
    "data2 = data[data['customer_ID'] != '425d5532a25f20815166956bc7fb3a49928f4c49517e1c59f9843f13a8aad690']\n",
    "print(data2.tail)"
   ]
  },
  {
   "cell_type": "code",
   "execution_count": 8,
   "id": "27a275ce",
   "metadata": {},
   "outputs": [
    {
     "data": {
      "text/plain": [
       "(1439992, 190)"
      ]
     },
     "execution_count": 8,
     "metadata": {},
     "output_type": "execute_result"
    }
   ],
   "source": [
    "data2.shape"
   ]
  },
  {
   "cell_type": "markdown",
   "id": "4ce5bd3c",
   "metadata": {},
   "source": [
    "Now we will merge the data and labels"
   ]
  },
  {
   "cell_type": "code",
   "execution_count": 63,
   "id": "15824aaa",
   "metadata": {},
   "outputs": [],
   "source": [
    "merged_data = pd.merge(data2, labels, on='customer_ID').dropna(subset=['target'])\n",
    "merged_data.to_csv(r\"C:\\Users\\aniqa\\Desktop\\Courses\\Semester_2\\Machine_Learning\\Project 1\\Code\\merged-data-final.csv\", index = False)"
   ]
  },
  {
   "cell_type": "code",
   "execution_count": 64,
   "id": "17d8694e",
   "metadata": {},
   "outputs": [
    {
     "name": "stdout",
     "output_type": "stream",
     "text": [
      "                   label            type\n",
      "customer_ID  customer_ID          object\n",
      "S_2                  S_2  datetime64[ns]\n",
      "P_2                  P_2         float64\n",
      "D_39                D_39         float64\n",
      "B_1                  B_1         float64\n",
      "...                  ...             ...\n",
      "D_142              D_142         float64\n",
      "D_143              D_143         float64\n",
      "D_144              D_144         float64\n",
      "D_145              D_145         float64\n",
      "target            target           int64\n",
      "\n",
      "[191 rows x 2 columns]\n"
     ]
    }
   ],
   "source": [
    "data_types = merged_data.dtypes\n",
    "data_types.dtype\n",
    "data_types = pd.DataFrame({\"label\": merged_data.columns,\"type\": data_types})\n",
    "print(data_types)"
   ]
  },
  {
   "cell_type": "code",
   "execution_count": 11,
   "id": "660c48f0",
   "metadata": {},
   "outputs": [],
   "source": [
    "#data_types.to_csv(r\"C:\\Users\\aniqa\\Desktop\\Courses\\Semester_2\\Machine_Learning\\Project 1\\Code\\data_types.csv\", index = False)"
   ]
  },
  {
   "cell_type": "code",
   "execution_count": 65,
   "id": "b58f8b67",
   "metadata": {},
   "outputs": [
    {
     "name": "stdout",
     "output_type": "stream",
     "text": [
      "                   label    type\n",
      "customer_ID  customer_ID  object\n",
      "D_63                D_63  object\n",
      "D_64                D_64  object\n"
     ]
    }
   ],
   "source": [
    "categorical_variables = data_types.loc[data_types['type']=='object']\n",
    "print(categorical_variables)"
   ]
  },
  {
   "cell_type": "code",
   "execution_count": 66,
   "id": "d88d4eab",
   "metadata": {},
   "outputs": [
    {
     "name": "stdout",
     "output_type": "stream",
     "text": [
      "     label    type\n",
      "D_63  D_63  object\n",
      "D_64  D_64  object\n"
     ]
    }
   ],
   "source": [
    "categorical_variables = categorical_variables.iloc[1:]\n",
    "print(categorical_variables)"
   ]
  },
  {
   "cell_type": "code",
   "execution_count": 67,
   "id": "d0bf4e11",
   "metadata": {},
   "outputs": [],
   "source": [
    "cat_list = categorical_variables.iloc[:, 0].tolist()"
   ]
  },
  {
   "cell_type": "code",
   "execution_count": 68,
   "id": "f7a6453b",
   "metadata": {},
   "outputs": [
    {
     "name": "stdout",
     "output_type": "stream",
     "text": [
      "['D_63', 'D_64']\n"
     ]
    }
   ],
   "source": [
    "print(cat_list)"
   ]
  },
  {
   "cell_type": "code",
   "execution_count": 69,
   "id": "72a55b9e",
   "metadata": {},
   "outputs": [
    {
     "name": "stdout",
     "output_type": "stream",
     "text": [
      "                                               customer_ID        S_2  \\\n",
      "0        0000099d6bd597052cdcda90ffabf56573fe9d7c79be5f... 2017-03-09   \n",
      "1        0000099d6bd597052cdcda90ffabf56573fe9d7c79be5f... 2017-04-07   \n",
      "2        0000099d6bd597052cdcda90ffabf56573fe9d7c79be5f... 2017-05-28   \n",
      "3        0000099d6bd597052cdcda90ffabf56573fe9d7c79be5f... 2017-06-13   \n",
      "4        0000099d6bd597052cdcda90ffabf56573fe9d7c79be5f... 2017-07-16   \n",
      "...                                                    ...        ...   \n",
      "1439987  425d3742a1fd67755c431a132257d18e81234fc36985cd... 2017-11-02   \n",
      "1439988  425d3742a1fd67755c431a132257d18e81234fc36985cd... 2017-12-22   \n",
      "1439989  425d3742a1fd67755c431a132257d18e81234fc36985cd... 2018-01-18   \n",
      "1439990  425d3742a1fd67755c431a132257d18e81234fc36985cd... 2018-02-18   \n",
      "1439991  425d3742a1fd67755c431a132257d18e81234fc36985cd... 2018-03-12   \n",
      "\n",
      "              P_2      D_39       B_1       B_2       R_1       S_3      D_41  \\\n",
      "0        0.938469  0.001733  0.008724  1.006838  0.009228  0.124035  0.008771   \n",
      "1        0.936665  0.005775  0.004923  1.000653  0.006151  0.126750  0.000798   \n",
      "2        0.954180  0.091505  0.021655  1.009672  0.006815  0.123977  0.007598   \n",
      "3        0.960384  0.002455  0.013683  1.002700  0.001373  0.117169  0.000685   \n",
      "4        0.947248  0.002483  0.015193  1.000727  0.007605  0.117325  0.004653   \n",
      "...           ...       ...       ...       ...       ...       ...       ...   \n",
      "1439987  0.849775  0.005104  0.010486  1.003217  0.003182  0.150330  0.000860   \n",
      "1439988  0.851198  0.004490  0.014734  1.006323  0.000302  0.138393  0.009412   \n",
      "1439989  0.805918  0.298139  0.014284  1.005040  0.006340  0.135215  0.001861   \n",
      "1439990  0.801010  0.385806  0.019405  1.008273  0.005823  0.132571  0.001117   \n",
      "1439991  0.835906  0.119807  0.016720  1.005346  0.004553  0.123686  0.000462   \n",
      "\n",
      "              B_3  ...  D_63_CO  D_63_CR  D_63_XL  D_63_XM  D_63_XZ  D_64_-1  \\\n",
      "0        0.004709  ...      0.0      1.0      0.0      0.0      0.0      0.0   \n",
      "1        0.002714  ...      0.0      1.0      0.0      0.0      0.0      0.0   \n",
      "2        0.009423  ...      0.0      1.0      0.0      0.0      0.0      0.0   \n",
      "3        0.005531  ...      0.0      1.0      0.0      0.0      0.0      0.0   \n",
      "4        0.009312  ...      0.0      1.0      0.0      0.0      0.0      0.0   \n",
      "...           ...  ...      ...      ...      ...      ...      ...      ...   \n",
      "1439987  0.003142  ...      1.0      0.0      0.0      0.0      0.0      0.0   \n",
      "1439988  0.004341  ...      1.0      0.0      0.0      0.0      0.0      0.0   \n",
      "1439989  0.002924  ...      1.0      0.0      0.0      0.0      0.0      0.0   \n",
      "1439990  0.007921  ...      1.0      0.0      0.0      0.0      0.0      0.0   \n",
      "1439991  0.003511  ...      1.0      0.0      0.0      0.0      0.0      0.0   \n",
      "\n",
      "         D_64_O  D_64_R  D_64_U  D_64_nan  \n",
      "0           1.0     0.0     0.0       0.0  \n",
      "1           1.0     0.0     0.0       0.0  \n",
      "2           1.0     0.0     0.0       0.0  \n",
      "3           1.0     0.0     0.0       0.0  \n",
      "4           1.0     0.0     0.0       0.0  \n",
      "...         ...     ...     ...       ...  \n",
      "1439987     0.0     0.0     1.0       0.0  \n",
      "1439988     0.0     0.0     1.0       0.0  \n",
      "1439989     0.0     0.0     1.0       0.0  \n",
      "1439990     0.0     0.0     1.0       0.0  \n",
      "1439991     0.0     0.0     1.0       0.0  \n",
      "\n",
      "[1439992 rows x 202 columns]\n"
     ]
    }
   ],
   "source": [
    "one_hot = OneHotEncoder(handle_unknown = 'ignore')\n",
    "one_hot.fit(merged_data[cat_list])\n",
    "merged_data_encoded = pd.DataFrame(one_hot.transform(merged_data[cat_list]).toarray(),columns = one_hot.get_feature_names_out(cat_list))\n",
    "merged_data = pd.concat([merged_data.reset_index(drop = True), merged_data_encoded.reset_index(drop=True)],axis = 1)\n",
    "print(merged_data)"
   ]
  },
  {
   "cell_type": "markdown",
   "id": "46640295",
   "metadata": {},
   "source": [
    "Find the range of dates in the sample to determine test-train split"
   ]
  },
  {
   "cell_type": "code",
   "execution_count": 17,
   "id": "1ab91a20",
   "metadata": {},
   "outputs": [
    {
     "name": "stdout",
     "output_type": "stream",
     "text": [
      "2017-03-01 00:00:00\n",
      "2018-03-31 00:00:00\n"
     ]
    }
   ],
   "source": [
    "print(merged_data['S_2'].min())\n",
    "print(merged_data['S_2'].max())"
   ]
  },
  {
   "cell_type": "markdown",
   "id": "a464cbd3",
   "metadata": {},
   "source": [
    "Split data into test train split.\n",
    "Train sample will contain all data from 2017-05 to 2018-01 inclusive.\n",
    "Test sample 1 will contain data from 2017-03 to 2017-04 inclusive and test sample 2 will contain data from 2018-02 to 2018-03."
   ]
  },
  {
   "cell_type": "code",
   "execution_count": 18,
   "id": "0c8e11dc",
   "metadata": {},
   "outputs": [],
   "source": [
    "train_data = merged_data[(merged_data['S_2']>='2017-05-01') & (merged_data[\"S_2\"] <= '2018-01-31')]\n",
    "test1_data = merged_data[(merged_data['S_2']>='2017-03-01') & (merged_data['S_2'] <= '2017-04-30')]\n",
    "test2_data = merged_data[(merged_data['S_2']>='2018-02-01') & (merged_data['S_2'] <= '2018-03-31')]"
   ]
  },
  {
   "cell_type": "markdown",
   "id": "e77ab6c7",
   "metadata": {},
   "source": [
    "Check to see if date ranges in train and test sample are correct"
   ]
  },
  {
   "cell_type": "code",
   "execution_count": 19,
   "id": "ce91c812",
   "metadata": {},
   "outputs": [
    {
     "name": "stdout",
     "output_type": "stream",
     "text": [
      "2017-05-01 00:00:00\n",
      "2018-01-31 00:00:00\n",
      "2017-03-01 00:00:00\n",
      "2017-04-30 00:00:00\n",
      "2018-02-01 00:00:00\n",
      "2018-03-31 00:00:00\n"
     ]
    }
   ],
   "source": [
    "print(train_data['S_2'].min())\n",
    "print(train_data['S_2'].max())\n",
    "print(test1_data['S_2'].min())\n",
    "print(test1_data['S_2'].max())\n",
    "print(test2_data['S_2'].min())\n",
    "print(test2_data['S_2'].max())"
   ]
  },
  {
   "cell_type": "markdown",
   "id": "5cb9d7fa",
   "metadata": {},
   "source": [
    "Drop columns not needed for the model and create X_train and Y_train dataframes, each containing the independent and dependent variables respectively."
   ]
  },
  {
   "cell_type": "code",
   "execution_count": 20,
   "id": "209c6947",
   "metadata": {},
   "outputs": [],
   "source": [
    "target_col = 'target'\n",
    "drop_cols = ['customer_ID','S_2', 'D_63','D_64',target_col]\n",
    "X_train = train_data.drop(columns = drop_cols)\n",
    "Y_train = train_data[target_col]"
   ]
  },
  {
   "cell_type": "code",
   "execution_count": 21,
   "id": "f4324dd2",
   "metadata": {},
   "outputs": [
    {
     "data": {
      "text/plain": [
       "249910"
      ]
     },
     "execution_count": 21,
     "metadata": {},
     "output_type": "execute_result"
    }
   ],
   "source": [
    "Y_train.sum()"
   ]
  },
  {
   "cell_type": "markdown",
   "id": "09075c87",
   "metadata": {},
   "source": [
    "Now we are ready to run XGBoost on our data, we will initially use the default parameters"
   ]
  },
  {
   "cell_type": "code",
   "execution_count": 22,
   "id": "99bb22da",
   "metadata": {},
   "outputs": [
    {
     "data": {
      "text/html": [
       "<style>#sk-container-id-1 {color: black;background-color: white;}#sk-container-id-1 pre{padding: 0;}#sk-container-id-1 div.sk-toggleable {background-color: white;}#sk-container-id-1 label.sk-toggleable__label {cursor: pointer;display: block;width: 100%;margin-bottom: 0;padding: 0.3em;box-sizing: border-box;text-align: center;}#sk-container-id-1 label.sk-toggleable__label-arrow:before {content: \"▸\";float: left;margin-right: 0.25em;color: #696969;}#sk-container-id-1 label.sk-toggleable__label-arrow:hover:before {color: black;}#sk-container-id-1 div.sk-estimator:hover label.sk-toggleable__label-arrow:before {color: black;}#sk-container-id-1 div.sk-toggleable__content {max-height: 0;max-width: 0;overflow: hidden;text-align: left;background-color: #f0f8ff;}#sk-container-id-1 div.sk-toggleable__content pre {margin: 0.2em;color: black;border-radius: 0.25em;background-color: #f0f8ff;}#sk-container-id-1 input.sk-toggleable__control:checked~div.sk-toggleable__content {max-height: 200px;max-width: 100%;overflow: auto;}#sk-container-id-1 input.sk-toggleable__control:checked~label.sk-toggleable__label-arrow:before {content: \"▾\";}#sk-container-id-1 div.sk-estimator input.sk-toggleable__control:checked~label.sk-toggleable__label {background-color: #d4ebff;}#sk-container-id-1 div.sk-label input.sk-toggleable__control:checked~label.sk-toggleable__label {background-color: #d4ebff;}#sk-container-id-1 input.sk-hidden--visually {border: 0;clip: rect(1px 1px 1px 1px);clip: rect(1px, 1px, 1px, 1px);height: 1px;margin: -1px;overflow: hidden;padding: 0;position: absolute;width: 1px;}#sk-container-id-1 div.sk-estimator {font-family: monospace;background-color: #f0f8ff;border: 1px dotted black;border-radius: 0.25em;box-sizing: border-box;margin-bottom: 0.5em;}#sk-container-id-1 div.sk-estimator:hover {background-color: #d4ebff;}#sk-container-id-1 div.sk-parallel-item::after {content: \"\";width: 100%;border-bottom: 1px solid gray;flex-grow: 1;}#sk-container-id-1 div.sk-label:hover label.sk-toggleable__label {background-color: #d4ebff;}#sk-container-id-1 div.sk-serial::before {content: \"\";position: absolute;border-left: 1px solid gray;box-sizing: border-box;top: 0;bottom: 0;left: 50%;z-index: 0;}#sk-container-id-1 div.sk-serial {display: flex;flex-direction: column;align-items: center;background-color: white;padding-right: 0.2em;padding-left: 0.2em;position: relative;}#sk-container-id-1 div.sk-item {position: relative;z-index: 1;}#sk-container-id-1 div.sk-parallel {display: flex;align-items: stretch;justify-content: center;background-color: white;position: relative;}#sk-container-id-1 div.sk-item::before, #sk-container-id-1 div.sk-parallel-item::before {content: \"\";position: absolute;border-left: 1px solid gray;box-sizing: border-box;top: 0;bottom: 0;left: 50%;z-index: -1;}#sk-container-id-1 div.sk-parallel-item {display: flex;flex-direction: column;z-index: 1;position: relative;background-color: white;}#sk-container-id-1 div.sk-parallel-item:first-child::after {align-self: flex-end;width: 50%;}#sk-container-id-1 div.sk-parallel-item:last-child::after {align-self: flex-start;width: 50%;}#sk-container-id-1 div.sk-parallel-item:only-child::after {width: 0;}#sk-container-id-1 div.sk-dashed-wrapped {border: 1px dashed gray;margin: 0 0.4em 0.5em 0.4em;box-sizing: border-box;padding-bottom: 0.4em;background-color: white;}#sk-container-id-1 div.sk-label label {font-family: monospace;font-weight: bold;display: inline-block;line-height: 1.2em;}#sk-container-id-1 div.sk-label-container {text-align: center;}#sk-container-id-1 div.sk-container {/* jupyter's `normalize.less` sets `[hidden] { display: none; }` but bootstrap.min.css set `[hidden] { display: none !important; }` so we also need the `!important` here to be able to override the default hidden behavior on the sphinx rendered scikit-learn.org. See: https://github.com/scikit-learn/scikit-learn/issues/21755 */display: inline-block !important;position: relative;}#sk-container-id-1 div.sk-text-repr-fallback {display: none;}</style><div id=\"sk-container-id-1\" class=\"sk-top-container\"><div class=\"sk-text-repr-fallback\"><pre>XGBClassifier(base_score=None, booster=None, callbacks=None,\n",
       "              colsample_bylevel=None, colsample_bynode=None,\n",
       "              colsample_bytree=None, early_stopping_rounds=None,\n",
       "              enable_categorical=False, eval_metric=None, feature_types=None,\n",
       "              gamma=None, gpu_id=None, grow_policy=None, importance_type=None,\n",
       "              interaction_constraints=None, learning_rate=None, max_bin=None,\n",
       "              max_cat_threshold=None, max_cat_to_onehot=None,\n",
       "              max_delta_step=None, max_depth=None, max_leaves=None,\n",
       "              min_child_weight=None, missing=nan, monotone_constraints=None,\n",
       "              n_estimators=100, n_jobs=None, num_parallel_tree=None,\n",
       "              predictor=None, random_state=42, ...)</pre><b>In a Jupyter environment, please rerun this cell to show the HTML representation or trust the notebook. <br />On GitHub, the HTML representation is unable to render, please try loading this page with nbviewer.org.</b></div><div class=\"sk-container\" hidden><div class=\"sk-item\"><div class=\"sk-estimator sk-toggleable\"><input class=\"sk-toggleable__control sk-hidden--visually\" id=\"sk-estimator-id-1\" type=\"checkbox\" checked><label for=\"sk-estimator-id-1\" class=\"sk-toggleable__label sk-toggleable__label-arrow\">XGBClassifier</label><div class=\"sk-toggleable__content\"><pre>XGBClassifier(base_score=None, booster=None, callbacks=None,\n",
       "              colsample_bylevel=None, colsample_bynode=None,\n",
       "              colsample_bytree=None, early_stopping_rounds=None,\n",
       "              enable_categorical=False, eval_metric=None, feature_types=None,\n",
       "              gamma=None, gpu_id=None, grow_policy=None, importance_type=None,\n",
       "              interaction_constraints=None, learning_rate=None, max_bin=None,\n",
       "              max_cat_threshold=None, max_cat_to_onehot=None,\n",
       "              max_delta_step=None, max_depth=None, max_leaves=None,\n",
       "              min_child_weight=None, missing=nan, monotone_constraints=None,\n",
       "              n_estimators=100, n_jobs=None, num_parallel_tree=None,\n",
       "              predictor=None, random_state=42, ...)</pre></div></div></div></div></div>"
      ],
      "text/plain": [
       "XGBClassifier(base_score=None, booster=None, callbacks=None,\n",
       "              colsample_bylevel=None, colsample_bynode=None,\n",
       "              colsample_bytree=None, early_stopping_rounds=None,\n",
       "              enable_categorical=False, eval_metric=None, feature_types=None,\n",
       "              gamma=None, gpu_id=None, grow_policy=None, importance_type=None,\n",
       "              interaction_constraints=None, learning_rate=None, max_bin=None,\n",
       "              max_cat_threshold=None, max_cat_to_onehot=None,\n",
       "              max_delta_step=None, max_depth=None, max_leaves=None,\n",
       "              min_child_weight=None, missing=nan, monotone_constraints=None,\n",
       "              n_estimators=100, n_jobs=None, num_parallel_tree=None,\n",
       "              predictor=None, random_state=42, ...)"
      ]
     },
     "execution_count": 22,
     "metadata": {},
     "output_type": "execute_result"
    }
   ],
   "source": [
    "xgb_model_default = xgb.XGBClassifier(random_state = 42)\n",
    "xgb_model_default.fit(X_train, Y_train)"
   ]
  },
  {
   "cell_type": "markdown",
   "id": "fe7732ce",
   "metadata": {},
   "source": [
    "Calculate the feature importance and save it to a csv file"
   ]
  },
  {
   "cell_type": "code",
   "execution_count": 23,
   "id": "0db527aa",
   "metadata": {},
   "outputs": [],
   "source": [
    "importance_df = pd.DataFrame(xgb_model_default.feature_importances_, index = X_train.columns, columns=['importance'])\n",
    "importance_df = importance_df.sort_values('importance', ascending=False)"
   ]
  },
  {
   "cell_type": "code",
   "execution_count": 24,
   "id": "2fa8d81f",
   "metadata": {},
   "outputs": [],
   "source": [
    "importance_df\n",
    "importance_df.to_csv(r\"C:\\Users\\aniqa\\Desktop\\Courses\\Semester_2\\Machine_Learning\\Project 1\\Code\\feature_importance.csv\")"
   ]
  },
  {
   "cell_type": "markdown",
   "id": "2c8016ca",
   "metadata": {},
   "source": [
    "Run another XGBoost model using the parameters listed:\n",
    "-Trees = 300\n",
    "-Learning Rate = 0.5\n",
    "-Max Depth = 4\n",
    "-Observations per sample = 0.5\n",
    "-weight = 5"
   ]
  },
  {
   "cell_type": "code",
   "execution_count": 25,
   "id": "95b71ac1",
   "metadata": {},
   "outputs": [
    {
     "data": {
      "text/html": [
       "<style>#sk-container-id-2 {color: black;background-color: white;}#sk-container-id-2 pre{padding: 0;}#sk-container-id-2 div.sk-toggleable {background-color: white;}#sk-container-id-2 label.sk-toggleable__label {cursor: pointer;display: block;width: 100%;margin-bottom: 0;padding: 0.3em;box-sizing: border-box;text-align: center;}#sk-container-id-2 label.sk-toggleable__label-arrow:before {content: \"▸\";float: left;margin-right: 0.25em;color: #696969;}#sk-container-id-2 label.sk-toggleable__label-arrow:hover:before {color: black;}#sk-container-id-2 div.sk-estimator:hover label.sk-toggleable__label-arrow:before {color: black;}#sk-container-id-2 div.sk-toggleable__content {max-height: 0;max-width: 0;overflow: hidden;text-align: left;background-color: #f0f8ff;}#sk-container-id-2 div.sk-toggleable__content pre {margin: 0.2em;color: black;border-radius: 0.25em;background-color: #f0f8ff;}#sk-container-id-2 input.sk-toggleable__control:checked~div.sk-toggleable__content {max-height: 200px;max-width: 100%;overflow: auto;}#sk-container-id-2 input.sk-toggleable__control:checked~label.sk-toggleable__label-arrow:before {content: \"▾\";}#sk-container-id-2 div.sk-estimator input.sk-toggleable__control:checked~label.sk-toggleable__label {background-color: #d4ebff;}#sk-container-id-2 div.sk-label input.sk-toggleable__control:checked~label.sk-toggleable__label {background-color: #d4ebff;}#sk-container-id-2 input.sk-hidden--visually {border: 0;clip: rect(1px 1px 1px 1px);clip: rect(1px, 1px, 1px, 1px);height: 1px;margin: -1px;overflow: hidden;padding: 0;position: absolute;width: 1px;}#sk-container-id-2 div.sk-estimator {font-family: monospace;background-color: #f0f8ff;border: 1px dotted black;border-radius: 0.25em;box-sizing: border-box;margin-bottom: 0.5em;}#sk-container-id-2 div.sk-estimator:hover {background-color: #d4ebff;}#sk-container-id-2 div.sk-parallel-item::after {content: \"\";width: 100%;border-bottom: 1px solid gray;flex-grow: 1;}#sk-container-id-2 div.sk-label:hover label.sk-toggleable__label {background-color: #d4ebff;}#sk-container-id-2 div.sk-serial::before {content: \"\";position: absolute;border-left: 1px solid gray;box-sizing: border-box;top: 0;bottom: 0;left: 50%;z-index: 0;}#sk-container-id-2 div.sk-serial {display: flex;flex-direction: column;align-items: center;background-color: white;padding-right: 0.2em;padding-left: 0.2em;position: relative;}#sk-container-id-2 div.sk-item {position: relative;z-index: 1;}#sk-container-id-2 div.sk-parallel {display: flex;align-items: stretch;justify-content: center;background-color: white;position: relative;}#sk-container-id-2 div.sk-item::before, #sk-container-id-2 div.sk-parallel-item::before {content: \"\";position: absolute;border-left: 1px solid gray;box-sizing: border-box;top: 0;bottom: 0;left: 50%;z-index: -1;}#sk-container-id-2 div.sk-parallel-item {display: flex;flex-direction: column;z-index: 1;position: relative;background-color: white;}#sk-container-id-2 div.sk-parallel-item:first-child::after {align-self: flex-end;width: 50%;}#sk-container-id-2 div.sk-parallel-item:last-child::after {align-self: flex-start;width: 50%;}#sk-container-id-2 div.sk-parallel-item:only-child::after {width: 0;}#sk-container-id-2 div.sk-dashed-wrapped {border: 1px dashed gray;margin: 0 0.4em 0.5em 0.4em;box-sizing: border-box;padding-bottom: 0.4em;background-color: white;}#sk-container-id-2 div.sk-label label {font-family: monospace;font-weight: bold;display: inline-block;line-height: 1.2em;}#sk-container-id-2 div.sk-label-container {text-align: center;}#sk-container-id-2 div.sk-container {/* jupyter's `normalize.less` sets `[hidden] { display: none; }` but bootstrap.min.css set `[hidden] { display: none !important; }` so we also need the `!important` here to be able to override the default hidden behavior on the sphinx rendered scikit-learn.org. See: https://github.com/scikit-learn/scikit-learn/issues/21755 */display: inline-block !important;position: relative;}#sk-container-id-2 div.sk-text-repr-fallback {display: none;}</style><div id=\"sk-container-id-2\" class=\"sk-top-container\"><div class=\"sk-text-repr-fallback\"><pre>XGBClassifier(base_score=None, booster=None, callbacks=None,\n",
       "              colsample_bylevel=None, colsample_bynode=None,\n",
       "              colsample_bytree=0.5, early_stopping_rounds=None,\n",
       "              enable_categorical=False, eval_metric=None, feature_types=None,\n",
       "              gamma=None, gpu_id=None, grow_policy=None, importance_type=None,\n",
       "              interaction_constraints=None, learning_rate=0.5, max_bin=None,\n",
       "              max_cat_threshold=None, max_cat_to_onehot=None,\n",
       "              max_delta_step=None, max_depth=4, max_leaves=None,\n",
       "              min_child_weight=None, missing=nan, monotone_constraints=None,\n",
       "              n_estimators=300, n_jobs=None, num_parallel_tree=None,\n",
       "              predictor=None, random_state=42, ...)</pre><b>In a Jupyter environment, please rerun this cell to show the HTML representation or trust the notebook. <br />On GitHub, the HTML representation is unable to render, please try loading this page with nbviewer.org.</b></div><div class=\"sk-container\" hidden><div class=\"sk-item\"><div class=\"sk-estimator sk-toggleable\"><input class=\"sk-toggleable__control sk-hidden--visually\" id=\"sk-estimator-id-2\" type=\"checkbox\" checked><label for=\"sk-estimator-id-2\" class=\"sk-toggleable__label sk-toggleable__label-arrow\">XGBClassifier</label><div class=\"sk-toggleable__content\"><pre>XGBClassifier(base_score=None, booster=None, callbacks=None,\n",
       "              colsample_bylevel=None, colsample_bynode=None,\n",
       "              colsample_bytree=0.5, early_stopping_rounds=None,\n",
       "              enable_categorical=False, eval_metric=None, feature_types=None,\n",
       "              gamma=None, gpu_id=None, grow_policy=None, importance_type=None,\n",
       "              interaction_constraints=None, learning_rate=0.5, max_bin=None,\n",
       "              max_cat_threshold=None, max_cat_to_onehot=None,\n",
       "              max_delta_step=None, max_depth=4, max_leaves=None,\n",
       "              min_child_weight=None, missing=nan, monotone_constraints=None,\n",
       "              n_estimators=300, n_jobs=None, num_parallel_tree=None,\n",
       "              predictor=None, random_state=42, ...)</pre></div></div></div></div></div>"
      ],
      "text/plain": [
       "XGBClassifier(base_score=None, booster=None, callbacks=None,\n",
       "              colsample_bylevel=None, colsample_bynode=None,\n",
       "              colsample_bytree=0.5, early_stopping_rounds=None,\n",
       "              enable_categorical=False, eval_metric=None, feature_types=None,\n",
       "              gamma=None, gpu_id=None, grow_policy=None, importance_type=None,\n",
       "              interaction_constraints=None, learning_rate=0.5, max_bin=None,\n",
       "              max_cat_threshold=None, max_cat_to_onehot=None,\n",
       "              max_delta_step=None, max_depth=4, max_leaves=None,\n",
       "              min_child_weight=None, missing=nan, monotone_constraints=None,\n",
       "              n_estimators=300, n_jobs=None, num_parallel_tree=None,\n",
       "              predictor=None, random_state=42, ...)"
      ]
     },
     "execution_count": 25,
     "metadata": {},
     "output_type": "execute_result"
    }
   ],
   "source": [
    "params = {'learning_rate': 0.5,\n",
    "          'max_depth': 4,\n",
    "          'subsample': 0.5,\n",
    "          'colsample_bytree':0.5,\n",
    "          'scale_pos_weight': 5,\n",
    "          'random_state': 42}\n",
    "\n",
    "# Set the number of trees\n",
    "num_trees = 300\n",
    "\n",
    "# Build the XGBoost model\n",
    "xgb_model_new = xgb.XGBClassifier(n_estimators=num_trees, **params)\n",
    "xgb_model_new.fit(X_train,Y_train)"
   ]
  },
  {
   "cell_type": "markdown",
   "id": "9604a319",
   "metadata": {},
   "source": [
    "Build a second feature importance dataframe and save it to csv"
   ]
  },
  {
   "cell_type": "code",
   "execution_count": 26,
   "id": "1f4d2107",
   "metadata": {},
   "outputs": [
    {
     "name": "stdout",
     "output_type": "stream",
     "text": [
      "          importance\n",
      "D_48        0.181197\n",
      "B_9         0.081526\n",
      "P_2         0.072415\n",
      "D_75        0.055379\n",
      "R_1         0.026201\n",
      "...              ...\n",
      "B_30        0.000194\n",
      "B_31        0.000000\n",
      "D_137       0.000000\n",
      "D_63_XL     0.000000\n",
      "D_64_nan    0.000000\n",
      "\n",
      "[197 rows x 1 columns]\n"
     ]
    }
   ],
   "source": [
    "importance_df2 = pd.DataFrame(xgb_model_new.feature_importances_, index = X_train.columns, columns=['importance'])\n",
    "importance_df2 = importance_df2.sort_values('importance', ascending=False)\n",
    "print(importance_df2)"
   ]
  },
  {
   "cell_type": "markdown",
   "id": "2236f690",
   "metadata": {},
   "source": [
    "Save second feature importance dataframe to a second csv"
   ]
  },
  {
   "cell_type": "code",
   "execution_count": 27,
   "id": "7b882ec2",
   "metadata": {},
   "outputs": [],
   "source": [
    "importance_df2.to_csv(r\"C:\\Users\\aniqa\\Desktop\\Courses\\Semester_2\\Machine_Learning\\Project 1\\Code\\feature_importance2.csv\")"
   ]
  },
  {
   "cell_type": "markdown",
   "id": "c3ad83c3",
   "metadata": {},
   "source": [
    "Merge 2 feature importance dataframes"
   ]
  },
  {
   "cell_type": "code",
   "execution_count": 28,
   "id": "19eef2d1",
   "metadata": {},
   "outputs": [
    {
     "name": "stdout",
     "output_type": "stream",
     "text": [
      "    feature_name  importance_1  importance_2\n",
      "0            P_2      0.203091      0.072415\n",
      "1            B_1      0.071032      0.005521\n",
      "2            B_2      0.063135      0.004818\n",
      "3            B_9      0.046202      0.081526\n",
      "4           D_51      0.030012      0.008512\n",
      "..           ...           ...           ...\n",
      "192         B_31      0.000000      0.000000\n",
      "193        D_116      0.000000      0.000976\n",
      "194        D_137      0.000000      0.000000\n",
      "195         R_20      0.000000      0.000866\n",
      "196     D_64_nan      0.000000      0.000000\n",
      "\n",
      "[197 rows x 3 columns]\n"
     ]
    }
   ],
   "source": [
    "# Merge the two dataframes on the index column\n",
    "merged_importance_df = importance_df.merge(importance_df2, left_index=True, right_index=True)\n",
    "\n",
    "# Rename the importance columns\n",
    "merged_importance_df = merged_importance_df.rename(columns={'importance_x': 'importance_1', 'importance_y': 'importance_2'})\n",
    "\n",
    "# Add a column for the feature names\n",
    "merged_importance_df['feature_name'] = merged_importance_df.index\n",
    "\n",
    "# Reorder the columns to have the feature_name column on the left\n",
    "merged_importance_df = merged_importance_df[['feature_name', 'importance_1', 'importance_2']]\n",
    "\n",
    "# Reset the index\n",
    "merged_importance_df = merged_importance_df.reset_index(drop=True)\n",
    "\n",
    "print(merged_importance_df)"
   ]
  },
  {
   "cell_type": "code",
   "execution_count": 29,
   "id": "27238f48",
   "metadata": {},
   "outputs": [],
   "source": [
    "merged_importance_df.to_csv(r\"C:\\Users\\aniqa\\Desktop\\Courses\\Semester_2\\Machine_Learning\\Project 1\\Code\\merged_importance.csv\")"
   ]
  },
  {
   "cell_type": "markdown",
   "id": "49b934c5",
   "metadata": {},
   "source": [
    "Create a list of features with importance greater than 0.5% in either model"
   ]
  },
  {
   "cell_type": "code",
   "execution_count": 30,
   "id": "94b46106",
   "metadata": {},
   "outputs": [
    {
     "name": "stdout",
     "output_type": "stream",
     "text": [
      "41\n"
     ]
    }
   ],
   "source": [
    "# Create a boolean mask for features with importance greater than 0.5% in either column\n",
    "mask = (merged_importance_df['importance_1'] > 0.005) | (merged_importance_df['importance_2'] > 0.005)\n",
    "\n",
    "# Get the feature names where the mask is True\n",
    "important_features = merged_importance_df.loc[mask, 'feature_name'].tolist()\n",
    "print(len(important_features))"
   ]
  },
  {
   "cell_type": "markdown",
   "id": "636134f3",
   "metadata": {},
   "source": [
    "Remove all features with importance less than 0.5% (0.005)"
   ]
  },
  {
   "cell_type": "code",
   "execution_count": 31,
   "id": "c9f3ae6c",
   "metadata": {},
   "outputs": [
    {
     "name": "stdout",
     "output_type": "stream",
     "text": [
      "(995264, 41)\n"
     ]
    }
   ],
   "source": [
    "# Filter the X_train dataframe based on the columns to keep\n",
    "X_train_filtered = X_train[important_features]\n",
    "print(X_train_filtered.shape)"
   ]
  },
  {
   "cell_type": "code",
   "execution_count": null,
   "id": "49b2906f",
   "metadata": {},
   "outputs": [],
   "source": []
  },
  {
   "cell_type": "raw",
   "id": "d29fd9c3",
   "metadata": {},
   "source": [
    "We now have only 41 features remaining in our filtered X_train dataframe. We will now proceed to create x_test and y_test 1 and 2 dataframes to be used in grid search"
   ]
  },
  {
   "cell_type": "code",
   "execution_count": 32,
   "id": "b047f392",
   "metadata": {},
   "outputs": [
    {
     "name": "stdout",
     "output_type": "stream",
     "text": [
      "(995264, 41)\n",
      "(995264,)\n",
      "(207531, 41)\n",
      "(237197, 41)\n",
      "(207531,)\n",
      "(237197,)\n"
     ]
    }
   ],
   "source": [
    "X_test1 = test1_data.drop(columns = drop_cols)\n",
    "X_test1 = X_test1[important_features]\n",
    "Y_test1 = test1_data[target_col]\n",
    "X_test2 = test2_data.drop(columns = drop_cols)\n",
    "X_test2 = X_test2[important_features]\n",
    "Y_test2 = test2_data[target_col]\n",
    "\n",
    "#test to see if shapes of train and test samples are the same\n",
    "print(X_train_filtered.shape)\n",
    "print(Y_train.shape)\n",
    "print(X_test1.shape)\n",
    "print(X_test2.shape)\n",
    "print(Y_test1.shape)\n",
    "print(Y_test2.shape)"
   ]
  },
  {
   "cell_type": "code",
   "execution_count": 35,
   "id": "297a809b",
   "metadata": {},
   "outputs": [
    {
     "name": "stderr",
     "output_type": "stream",
     "text": [
      "C:\\Users\\aniqa\\AppData\\Local\\Temp\\ipykernel_18896\\4158414759.py:40: FutureWarning: The frame.append method is deprecated and will be removed from pandas in a future version. Use pandas.concat instead.\n",
      "  results_table = results_table.append({\n"
     ]
    },
    {
     "name": "stdout",
     "output_type": "stream",
     "text": [
      "Trees                50.000000\n",
      "LR                    0.010000\n",
      "Subsample             0.500000\n",
      "% Features            0.500000\n",
      "Weight of Default     1.000000\n",
      "AUC Train             0.927606\n",
      "AUC Test 1            0.910497\n",
      "AUC Test 2            0.944293\n",
      "Name: 0, dtype: float64\n"
     ]
    },
    {
     "name": "stderr",
     "output_type": "stream",
     "text": [
      "C:\\Users\\aniqa\\AppData\\Local\\Temp\\ipykernel_18896\\4158414759.py:40: FutureWarning: The frame.append method is deprecated and will be removed from pandas in a future version. Use pandas.concat instead.\n",
      "  results_table = results_table.append({\n"
     ]
    },
    {
     "name": "stdout",
     "output_type": "stream",
     "text": [
      "Trees                50.000000\n",
      "LR                    0.010000\n",
      "Subsample             0.800000\n",
      "% Features            0.500000\n",
      "Weight of Default     1.000000\n",
      "AUC Train             0.927579\n",
      "AUC Test 1            0.910308\n",
      "AUC Test 2            0.944188\n",
      "Name: 1, dtype: float64\n"
     ]
    },
    {
     "name": "stderr",
     "output_type": "stream",
     "text": [
      "C:\\Users\\aniqa\\AppData\\Local\\Temp\\ipykernel_18896\\4158414759.py:40: FutureWarning: The frame.append method is deprecated and will be removed from pandas in a future version. Use pandas.concat instead.\n",
      "  results_table = results_table.append({\n"
     ]
    },
    {
     "name": "stdout",
     "output_type": "stream",
     "text": [
      "Trees                50.000000\n",
      "LR                    0.010000\n",
      "Subsample             0.500000\n",
      "% Features            0.500000\n",
      "Weight of Default     5.000000\n",
      "AUC Train             0.926159\n",
      "AUC Test 1            0.909704\n",
      "AUC Test 2            0.942208\n",
      "Name: 2, dtype: float64\n"
     ]
    },
    {
     "name": "stderr",
     "output_type": "stream",
     "text": [
      "C:\\Users\\aniqa\\AppData\\Local\\Temp\\ipykernel_18896\\4158414759.py:40: FutureWarning: The frame.append method is deprecated and will be removed from pandas in a future version. Use pandas.concat instead.\n",
      "  results_table = results_table.append({\n"
     ]
    },
    {
     "name": "stdout",
     "output_type": "stream",
     "text": [
      "Trees                50.000000\n",
      "LR                    0.010000\n",
      "Subsample             0.800000\n",
      "% Features            0.500000\n",
      "Weight of Default     5.000000\n",
      "AUC Train             0.926024\n",
      "AUC Test 1            0.909482\n",
      "AUC Test 2            0.942005\n",
      "Name: 3, dtype: float64\n"
     ]
    },
    {
     "name": "stderr",
     "output_type": "stream",
     "text": [
      "C:\\Users\\aniqa\\AppData\\Local\\Temp\\ipykernel_18896\\4158414759.py:40: FutureWarning: The frame.append method is deprecated and will be removed from pandas in a future version. Use pandas.concat instead.\n",
      "  results_table = results_table.append({\n"
     ]
    },
    {
     "name": "stdout",
     "output_type": "stream",
     "text": [
      "Trees                50.000000\n",
      "LR                    0.010000\n",
      "Subsample             0.500000\n",
      "% Features            0.500000\n",
      "Weight of Default    10.000000\n",
      "AUC Train             0.924595\n",
      "AUC Test 1            0.908080\n",
      "AUC Test 2            0.940674\n",
      "Name: 4, dtype: float64\n"
     ]
    },
    {
     "name": "stderr",
     "output_type": "stream",
     "text": [
      "C:\\Users\\aniqa\\AppData\\Local\\Temp\\ipykernel_18896\\4158414759.py:40: FutureWarning: The frame.append method is deprecated and will be removed from pandas in a future version. Use pandas.concat instead.\n",
      "  results_table = results_table.append({\n"
     ]
    },
    {
     "name": "stdout",
     "output_type": "stream",
     "text": [
      "Trees                50.000000\n",
      "LR                    0.010000\n",
      "Subsample             0.800000\n",
      "% Features            0.500000\n",
      "Weight of Default    10.000000\n",
      "AUC Train             0.924690\n",
      "AUC Test 1            0.908097\n",
      "AUC Test 2            0.940714\n",
      "Name: 5, dtype: float64\n"
     ]
    },
    {
     "name": "stderr",
     "output_type": "stream",
     "text": [
      "C:\\Users\\aniqa\\AppData\\Local\\Temp\\ipykernel_18896\\4158414759.py:40: FutureWarning: The frame.append method is deprecated and will be removed from pandas in a future version. Use pandas.concat instead.\n",
      "  results_table = results_table.append({\n"
     ]
    },
    {
     "name": "stdout",
     "output_type": "stream",
     "text": [
      "Trees                100.000000\n",
      "LR                     0.010000\n",
      "Subsample              0.500000\n",
      "% Features             0.500000\n",
      "Weight of Default      1.000000\n",
      "AUC Train              0.929122\n",
      "AUC Test 1             0.912147\n",
      "AUC Test 2             0.945496\n",
      "Name: 6, dtype: float64\n"
     ]
    },
    {
     "name": "stderr",
     "output_type": "stream",
     "text": [
      "C:\\Users\\aniqa\\AppData\\Local\\Temp\\ipykernel_18896\\4158414759.py:40: FutureWarning: The frame.append method is deprecated and will be removed from pandas in a future version. Use pandas.concat instead.\n",
      "  results_table = results_table.append({\n"
     ]
    },
    {
     "name": "stdout",
     "output_type": "stream",
     "text": [
      "Trees                100.000000\n",
      "LR                     0.010000\n",
      "Subsample              0.800000\n",
      "% Features             0.500000\n",
      "Weight of Default      1.000000\n",
      "AUC Train              0.929153\n",
      "AUC Test 1             0.912068\n",
      "AUC Test 2             0.945496\n",
      "Name: 7, dtype: float64\n"
     ]
    },
    {
     "name": "stderr",
     "output_type": "stream",
     "text": [
      "C:\\Users\\aniqa\\AppData\\Local\\Temp\\ipykernel_18896\\4158414759.py:40: FutureWarning: The frame.append method is deprecated and will be removed from pandas in a future version. Use pandas.concat instead.\n",
      "  results_table = results_table.append({\n"
     ]
    },
    {
     "name": "stdout",
     "output_type": "stream",
     "text": [
      "Trees                100.000000\n",
      "LR                     0.010000\n",
      "Subsample              0.500000\n",
      "% Features             0.500000\n",
      "Weight of Default      5.000000\n",
      "AUC Train              0.927694\n",
      "AUC Test 1             0.911220\n",
      "AUC Test 2             0.943613\n",
      "Name: 8, dtype: float64\n"
     ]
    },
    {
     "name": "stderr",
     "output_type": "stream",
     "text": [
      "C:\\Users\\aniqa\\AppData\\Local\\Temp\\ipykernel_18896\\4158414759.py:40: FutureWarning: The frame.append method is deprecated and will be removed from pandas in a future version. Use pandas.concat instead.\n",
      "  results_table = results_table.append({\n"
     ]
    },
    {
     "name": "stdout",
     "output_type": "stream",
     "text": [
      "Trees                100.000000\n",
      "LR                     0.010000\n",
      "Subsample              0.800000\n",
      "% Features             0.500000\n",
      "Weight of Default      5.000000\n",
      "AUC Train              0.927690\n",
      "AUC Test 1             0.911087\n",
      "AUC Test 2             0.943601\n",
      "Name: 9, dtype: float64\n"
     ]
    },
    {
     "name": "stderr",
     "output_type": "stream",
     "text": [
      "C:\\Users\\aniqa\\AppData\\Local\\Temp\\ipykernel_18896\\4158414759.py:40: FutureWarning: The frame.append method is deprecated and will be removed from pandas in a future version. Use pandas.concat instead.\n",
      "  results_table = results_table.append({\n"
     ]
    },
    {
     "name": "stdout",
     "output_type": "stream",
     "text": [
      "Trees                100.000000\n",
      "LR                     0.010000\n",
      "Subsample              0.500000\n",
      "% Features             0.500000\n",
      "Weight of Default     10.000000\n",
      "AUC Train              0.926287\n",
      "AUC Test 1             0.909803\n",
      "AUC Test 2             0.942163\n",
      "Name: 10, dtype: float64\n"
     ]
    },
    {
     "name": "stderr",
     "output_type": "stream",
     "text": [
      "C:\\Users\\aniqa\\AppData\\Local\\Temp\\ipykernel_18896\\4158414759.py:40: FutureWarning: The frame.append method is deprecated and will be removed from pandas in a future version. Use pandas.concat instead.\n",
      "  results_table = results_table.append({\n"
     ]
    },
    {
     "name": "stdout",
     "output_type": "stream",
     "text": [
      "Trees                100.000000\n",
      "LR                     0.010000\n",
      "Subsample              0.800000\n",
      "% Features             0.500000\n",
      "Weight of Default     10.000000\n",
      "AUC Train              0.926441\n",
      "AUC Test 1             0.909890\n",
      "AUC Test 2             0.942236\n",
      "Name: 11, dtype: float64\n"
     ]
    },
    {
     "name": "stderr",
     "output_type": "stream",
     "text": [
      "C:\\Users\\aniqa\\AppData\\Local\\Temp\\ipykernel_18896\\4158414759.py:40: FutureWarning: The frame.append method is deprecated and will be removed from pandas in a future version. Use pandas.concat instead.\n",
      "  results_table = results_table.append({\n"
     ]
    },
    {
     "name": "stdout",
     "output_type": "stream",
     "text": [
      "Trees                300.000000\n",
      "LR                     0.010000\n",
      "Subsample              0.500000\n",
      "% Features             0.500000\n",
      "Weight of Default      1.000000\n",
      "AUC Train              0.933786\n",
      "AUC Test 1             0.916705\n",
      "AUC Test 2             0.949590\n",
      "Name: 12, dtype: float64\n"
     ]
    },
    {
     "name": "stderr",
     "output_type": "stream",
     "text": [
      "C:\\Users\\aniqa\\AppData\\Local\\Temp\\ipykernel_18896\\4158414759.py:40: FutureWarning: The frame.append method is deprecated and will be removed from pandas in a future version. Use pandas.concat instead.\n",
      "  results_table = results_table.append({\n"
     ]
    },
    {
     "name": "stdout",
     "output_type": "stream",
     "text": [
      "Trees                300.000000\n",
      "LR                     0.010000\n",
      "Subsample              0.800000\n",
      "% Features             0.500000\n",
      "Weight of Default      1.000000\n",
      "AUC Train              0.933848\n",
      "AUC Test 1             0.916637\n",
      "AUC Test 2             0.949513\n",
      "Name: 13, dtype: float64\n"
     ]
    },
    {
     "name": "stderr",
     "output_type": "stream",
     "text": [
      "C:\\Users\\aniqa\\AppData\\Local\\Temp\\ipykernel_18896\\4158414759.py:40: FutureWarning: The frame.append method is deprecated and will be removed from pandas in a future version. Use pandas.concat instead.\n",
      "  results_table = results_table.append({\n"
     ]
    },
    {
     "name": "stdout",
     "output_type": "stream",
     "text": [
      "Trees                300.000000\n",
      "LR                     0.010000\n",
      "Subsample              0.500000\n",
      "% Features             0.500000\n",
      "Weight of Default      5.000000\n",
      "AUC Train              0.933005\n",
      "AUC Test 1             0.916352\n",
      "AUC Test 2             0.948522\n",
      "Name: 14, dtype: float64\n"
     ]
    },
    {
     "name": "stderr",
     "output_type": "stream",
     "text": [
      "C:\\Users\\aniqa\\AppData\\Local\\Temp\\ipykernel_18896\\4158414759.py:40: FutureWarning: The frame.append method is deprecated and will be removed from pandas in a future version. Use pandas.concat instead.\n",
      "  results_table = results_table.append({\n"
     ]
    },
    {
     "name": "stdout",
     "output_type": "stream",
     "text": [
      "Trees                300.000000\n",
      "LR                     0.010000\n",
      "Subsample              0.800000\n",
      "% Features             0.500000\n",
      "Weight of Default      5.000000\n",
      "AUC Train              0.933060\n",
      "AUC Test 1             0.916330\n",
      "AUC Test 2             0.948482\n",
      "Name: 15, dtype: float64\n"
     ]
    },
    {
     "name": "stderr",
     "output_type": "stream",
     "text": [
      "C:\\Users\\aniqa\\AppData\\Local\\Temp\\ipykernel_18896\\4158414759.py:40: FutureWarning: The frame.append method is deprecated and will be removed from pandas in a future version. Use pandas.concat instead.\n",
      "  results_table = results_table.append({\n"
     ]
    },
    {
     "name": "stdout",
     "output_type": "stream",
     "text": [
      "Trees                300.000000\n",
      "LR                     0.010000\n",
      "Subsample              0.500000\n",
      "% Features             0.500000\n",
      "Weight of Default     10.000000\n",
      "AUC Train              0.932098\n",
      "AUC Test 1             0.915467\n",
      "AUC Test 2             0.947543\n",
      "Name: 16, dtype: float64\n"
     ]
    },
    {
     "name": "stderr",
     "output_type": "stream",
     "text": [
      "C:\\Users\\aniqa\\AppData\\Local\\Temp\\ipykernel_18896\\4158414759.py:40: FutureWarning: The frame.append method is deprecated and will be removed from pandas in a future version. Use pandas.concat instead.\n",
      "  results_table = results_table.append({\n"
     ]
    },
    {
     "name": "stdout",
     "output_type": "stream",
     "text": [
      "Trees                300.000000\n",
      "LR                     0.010000\n",
      "Subsample              0.800000\n",
      "% Features             0.500000\n",
      "Weight of Default     10.000000\n",
      "AUC Train              0.932182\n",
      "AUC Test 1             0.915548\n",
      "AUC Test 2             0.947529\n",
      "Name: 17, dtype: float64\n"
     ]
    },
    {
     "name": "stderr",
     "output_type": "stream",
     "text": [
      "C:\\Users\\aniqa\\AppData\\Local\\Temp\\ipykernel_18896\\4158414759.py:40: FutureWarning: The frame.append method is deprecated and will be removed from pandas in a future version. Use pandas.concat instead.\n",
      "  results_table = results_table.append({\n"
     ]
    },
    {
     "name": "stdout",
     "output_type": "stream",
     "text": [
      "Trees                50.000000\n",
      "LR                    0.100000\n",
      "Subsample             0.500000\n",
      "% Features            0.500000\n",
      "Weight of Default     1.000000\n",
      "AUC Train             0.936190\n",
      "AUC Test 1            0.919074\n",
      "AUC Test 2            0.951326\n",
      "Name: 18, dtype: float64\n"
     ]
    },
    {
     "name": "stderr",
     "output_type": "stream",
     "text": [
      "C:\\Users\\aniqa\\AppData\\Local\\Temp\\ipykernel_18896\\4158414759.py:40: FutureWarning: The frame.append method is deprecated and will be removed from pandas in a future version. Use pandas.concat instead.\n",
      "  results_table = results_table.append({\n"
     ]
    },
    {
     "name": "stdout",
     "output_type": "stream",
     "text": [
      "Trees                50.000000\n",
      "LR                    0.100000\n",
      "Subsample             0.800000\n",
      "% Features            0.500000\n",
      "Weight of Default     1.000000\n",
      "AUC Train             0.936378\n",
      "AUC Test 1            0.919152\n",
      "AUC Test 2            0.951393\n",
      "Name: 19, dtype: float64\n"
     ]
    },
    {
     "name": "stderr",
     "output_type": "stream",
     "text": [
      "C:\\Users\\aniqa\\AppData\\Local\\Temp\\ipykernel_18896\\4158414759.py:40: FutureWarning: The frame.append method is deprecated and will be removed from pandas in a future version. Use pandas.concat instead.\n",
      "  results_table = results_table.append({\n"
     ]
    },
    {
     "name": "stdout",
     "output_type": "stream",
     "text": [
      "Trees                50.000000\n",
      "LR                    0.100000\n",
      "Subsample             0.500000\n",
      "% Features            0.500000\n",
      "Weight of Default     5.000000\n",
      "AUC Train             0.935986\n",
      "AUC Test 1            0.919153\n",
      "AUC Test 2            0.951206\n",
      "Name: 20, dtype: float64\n"
     ]
    },
    {
     "name": "stderr",
     "output_type": "stream",
     "text": [
      "C:\\Users\\aniqa\\AppData\\Local\\Temp\\ipykernel_18896\\4158414759.py:40: FutureWarning: The frame.append method is deprecated and will be removed from pandas in a future version. Use pandas.concat instead.\n",
      "  results_table = results_table.append({\n"
     ]
    },
    {
     "name": "stdout",
     "output_type": "stream",
     "text": [
      "Trees                50.000000\n",
      "LR                    0.100000\n",
      "Subsample             0.800000\n",
      "% Features            0.500000\n",
      "Weight of Default     5.000000\n",
      "AUC Train             0.936111\n",
      "AUC Test 1            0.919214\n",
      "AUC Test 2            0.951218\n",
      "Name: 21, dtype: float64\n"
     ]
    },
    {
     "name": "stderr",
     "output_type": "stream",
     "text": [
      "C:\\Users\\aniqa\\AppData\\Local\\Temp\\ipykernel_18896\\4158414759.py:40: FutureWarning: The frame.append method is deprecated and will be removed from pandas in a future version. Use pandas.concat instead.\n",
      "  results_table = results_table.append({\n"
     ]
    },
    {
     "name": "stdout",
     "output_type": "stream",
     "text": [
      "Trees                50.000000\n",
      "LR                    0.100000\n",
      "Subsample             0.500000\n",
      "% Features            0.500000\n",
      "Weight of Default    10.000000\n",
      "AUC Train             0.935405\n",
      "AUC Test 1            0.918535\n",
      "AUC Test 2            0.950588\n",
      "Name: 22, dtype: float64\n"
     ]
    },
    {
     "name": "stderr",
     "output_type": "stream",
     "text": [
      "C:\\Users\\aniqa\\AppData\\Local\\Temp\\ipykernel_18896\\4158414759.py:40: FutureWarning: The frame.append method is deprecated and will be removed from pandas in a future version. Use pandas.concat instead.\n",
      "  results_table = results_table.append({\n"
     ]
    },
    {
     "name": "stdout",
     "output_type": "stream",
     "text": [
      "Trees                50.000000\n",
      "LR                    0.100000\n",
      "Subsample             0.800000\n",
      "% Features            0.500000\n",
      "Weight of Default    10.000000\n",
      "AUC Train             0.935573\n",
      "AUC Test 1            0.918699\n",
      "AUC Test 2            0.950718\n",
      "Name: 23, dtype: float64\n"
     ]
    },
    {
     "name": "stderr",
     "output_type": "stream",
     "text": [
      "C:\\Users\\aniqa\\AppData\\Local\\Temp\\ipykernel_18896\\4158414759.py:40: FutureWarning: The frame.append method is deprecated and will be removed from pandas in a future version. Use pandas.concat instead.\n",
      "  results_table = results_table.append({\n"
     ]
    },
    {
     "name": "stdout",
     "output_type": "stream",
     "text": [
      "Trees                100.000000\n",
      "LR                     0.100000\n",
      "Subsample              0.500000\n",
      "% Features             0.500000\n",
      "Weight of Default      1.000000\n",
      "AUC Train              0.940360\n",
      "AUC Test 1             0.922541\n",
      "AUC Test 2             0.954209\n",
      "Name: 24, dtype: float64\n"
     ]
    },
    {
     "name": "stderr",
     "output_type": "stream",
     "text": [
      "C:\\Users\\aniqa\\AppData\\Local\\Temp\\ipykernel_18896\\4158414759.py:40: FutureWarning: The frame.append method is deprecated and will be removed from pandas in a future version. Use pandas.concat instead.\n",
      "  results_table = results_table.append({\n"
     ]
    },
    {
     "name": "stdout",
     "output_type": "stream",
     "text": [
      "Trees                100.000000\n",
      "LR                     0.100000\n",
      "Subsample              0.800000\n",
      "% Features             0.500000\n",
      "Weight of Default      1.000000\n",
      "AUC Train              0.940594\n",
      "AUC Test 1             0.922494\n",
      "AUC Test 2             0.954315\n",
      "Name: 25, dtype: float64\n"
     ]
    },
    {
     "name": "stderr",
     "output_type": "stream",
     "text": [
      "C:\\Users\\aniqa\\AppData\\Local\\Temp\\ipykernel_18896\\4158414759.py:40: FutureWarning: The frame.append method is deprecated and will be removed from pandas in a future version. Use pandas.concat instead.\n",
      "  results_table = results_table.append({\n"
     ]
    },
    {
     "name": "stdout",
     "output_type": "stream",
     "text": [
      "Trees                100.000000\n",
      "LR                     0.100000\n",
      "Subsample              0.500000\n",
      "% Features             0.500000\n",
      "Weight of Default      5.000000\n",
      "AUC Train              0.940084\n",
      "AUC Test 1             0.922458\n",
      "AUC Test 2             0.954097\n",
      "Name: 26, dtype: float64\n"
     ]
    },
    {
     "name": "stderr",
     "output_type": "stream",
     "text": [
      "C:\\Users\\aniqa\\AppData\\Local\\Temp\\ipykernel_18896\\4158414759.py:40: FutureWarning: The frame.append method is deprecated and will be removed from pandas in a future version. Use pandas.concat instead.\n",
      "  results_table = results_table.append({\n"
     ]
    },
    {
     "name": "stdout",
     "output_type": "stream",
     "text": [
      "Trees                100.000000\n",
      "LR                     0.100000\n",
      "Subsample              0.800000\n",
      "% Features             0.500000\n",
      "Weight of Default      5.000000\n",
      "AUC Train              0.940359\n",
      "AUC Test 1             0.922596\n",
      "AUC Test 2             0.954229\n",
      "Name: 27, dtype: float64\n"
     ]
    },
    {
     "name": "stderr",
     "output_type": "stream",
     "text": [
      "C:\\Users\\aniqa\\AppData\\Local\\Temp\\ipykernel_18896\\4158414759.py:40: FutureWarning: The frame.append method is deprecated and will be removed from pandas in a future version. Use pandas.concat instead.\n",
      "  results_table = results_table.append({\n"
     ]
    },
    {
     "name": "stdout",
     "output_type": "stream",
     "text": [
      "Trees                100.000000\n",
      "LR                     0.100000\n",
      "Subsample              0.500000\n",
      "% Features             0.500000\n",
      "Weight of Default     10.000000\n",
      "AUC Train              0.939759\n",
      "AUC Test 1             0.922010\n",
      "AUC Test 2             0.953767\n",
      "Name: 28, dtype: float64\n"
     ]
    },
    {
     "name": "stderr",
     "output_type": "stream",
     "text": [
      "C:\\Users\\aniqa\\AppData\\Local\\Temp\\ipykernel_18896\\4158414759.py:40: FutureWarning: The frame.append method is deprecated and will be removed from pandas in a future version. Use pandas.concat instead.\n",
      "  results_table = results_table.append({\n"
     ]
    },
    {
     "name": "stdout",
     "output_type": "stream",
     "text": [
      "Trees                100.000000\n",
      "LR                     0.100000\n",
      "Subsample              0.800000\n",
      "% Features             0.500000\n",
      "Weight of Default     10.000000\n",
      "AUC Train              0.939985\n",
      "AUC Test 1             0.922274\n",
      "AUC Test 2             0.953864\n",
      "Name: 29, dtype: float64\n"
     ]
    },
    {
     "name": "stderr",
     "output_type": "stream",
     "text": [
      "C:\\Users\\aniqa\\AppData\\Local\\Temp\\ipykernel_18896\\4158414759.py:40: FutureWarning: The frame.append method is deprecated and will be removed from pandas in a future version. Use pandas.concat instead.\n",
      "  results_table = results_table.append({\n"
     ]
    },
    {
     "name": "stdout",
     "output_type": "stream",
     "text": [
      "Trees                300.000000\n",
      "LR                     0.100000\n",
      "Subsample              0.500000\n",
      "% Features             0.500000\n",
      "Weight of Default      1.000000\n",
      "AUC Train              0.947012\n",
      "AUC Test 1             0.925707\n",
      "AUC Test 2             0.956607\n",
      "Name: 30, dtype: float64\n"
     ]
    },
    {
     "name": "stderr",
     "output_type": "stream",
     "text": [
      "C:\\Users\\aniqa\\AppData\\Local\\Temp\\ipykernel_18896\\4158414759.py:40: FutureWarning: The frame.append method is deprecated and will be removed from pandas in a future version. Use pandas.concat instead.\n",
      "  results_table = results_table.append({\n"
     ]
    },
    {
     "name": "stdout",
     "output_type": "stream",
     "text": [
      "Trees                300.000000\n",
      "LR                     0.100000\n",
      "Subsample              0.800000\n",
      "% Features             0.500000\n",
      "Weight of Default      1.000000\n",
      "AUC Train              0.947295\n",
      "AUC Test 1             0.925894\n",
      "AUC Test 2             0.956976\n",
      "Name: 31, dtype: float64\n"
     ]
    },
    {
     "name": "stderr",
     "output_type": "stream",
     "text": [
      "C:\\Users\\aniqa\\AppData\\Local\\Temp\\ipykernel_18896\\4158414759.py:40: FutureWarning: The frame.append method is deprecated and will be removed from pandas in a future version. Use pandas.concat instead.\n",
      "  results_table = results_table.append({\n"
     ]
    },
    {
     "name": "stdout",
     "output_type": "stream",
     "text": [
      "Trees                300.000000\n",
      "LR                     0.100000\n",
      "Subsample              0.500000\n",
      "% Features             0.500000\n",
      "Weight of Default      5.000000\n",
      "AUC Train              0.946311\n",
      "AUC Test 1             0.925488\n",
      "AUC Test 2             0.956216\n",
      "Name: 32, dtype: float64\n"
     ]
    },
    {
     "name": "stderr",
     "output_type": "stream",
     "text": [
      "C:\\Users\\aniqa\\AppData\\Local\\Temp\\ipykernel_18896\\4158414759.py:40: FutureWarning: The frame.append method is deprecated and will be removed from pandas in a future version. Use pandas.concat instead.\n",
      "  results_table = results_table.append({\n"
     ]
    },
    {
     "name": "stdout",
     "output_type": "stream",
     "text": [
      "Trees                300.000000\n",
      "LR                     0.100000\n",
      "Subsample              0.800000\n",
      "% Features             0.500000\n",
      "Weight of Default      5.000000\n",
      "AUC Train              0.947093\n",
      "AUC Test 1             0.926138\n",
      "AUC Test 2             0.956832\n",
      "Name: 33, dtype: float64\n"
     ]
    },
    {
     "name": "stderr",
     "output_type": "stream",
     "text": [
      "C:\\Users\\aniqa\\AppData\\Local\\Temp\\ipykernel_18896\\4158414759.py:40: FutureWarning: The frame.append method is deprecated and will be removed from pandas in a future version. Use pandas.concat instead.\n",
      "  results_table = results_table.append({\n"
     ]
    },
    {
     "name": "stdout",
     "output_type": "stream",
     "text": [
      "Trees                300.000000\n",
      "LR                     0.100000\n",
      "Subsample              0.500000\n",
      "% Features             0.500000\n",
      "Weight of Default     10.000000\n",
      "AUC Train              0.945639\n",
      "AUC Test 1             0.924885\n",
      "AUC Test 2             0.955679\n",
      "Name: 34, dtype: float64\n"
     ]
    },
    {
     "name": "stderr",
     "output_type": "stream",
     "text": [
      "C:\\Users\\aniqa\\AppData\\Local\\Temp\\ipykernel_18896\\4158414759.py:40: FutureWarning: The frame.append method is deprecated and will be removed from pandas in a future version. Use pandas.concat instead.\n",
      "  results_table = results_table.append({\n"
     ]
    },
    {
     "name": "stdout",
     "output_type": "stream",
     "text": [
      "Trees                300.000000\n",
      "LR                     0.100000\n",
      "Subsample              0.800000\n",
      "% Features             0.500000\n",
      "Weight of Default     10.000000\n",
      "AUC Train              0.946389\n",
      "AUC Test 1             0.925623\n",
      "AUC Test 2             0.956221\n",
      "Name: 35, dtype: float64\n"
     ]
    },
    {
     "name": "stderr",
     "output_type": "stream",
     "text": [
      "C:\\Users\\aniqa\\AppData\\Local\\Temp\\ipykernel_18896\\4158414759.py:40: FutureWarning: The frame.append method is deprecated and will be removed from pandas in a future version. Use pandas.concat instead.\n",
      "  results_table = results_table.append({\n"
     ]
    },
    {
     "name": "stdout",
     "output_type": "stream",
     "text": [
      "Trees                50.000000\n",
      "LR                    0.010000\n",
      "Subsample             0.500000\n",
      "% Features            1.000000\n",
      "Weight of Default     1.000000\n",
      "AUC Train             0.922987\n",
      "AUC Test 1            0.905336\n",
      "AUC Test 2            0.939994\n",
      "Name: 36, dtype: float64\n"
     ]
    },
    {
     "name": "stderr",
     "output_type": "stream",
     "text": [
      "C:\\Users\\aniqa\\AppData\\Local\\Temp\\ipykernel_18896\\4158414759.py:40: FutureWarning: The frame.append method is deprecated and will be removed from pandas in a future version. Use pandas.concat instead.\n",
      "  results_table = results_table.append({\n"
     ]
    },
    {
     "name": "stdout",
     "output_type": "stream",
     "text": [
      "Trees                50.000000\n",
      "LR                    0.010000\n",
      "Subsample             0.800000\n",
      "% Features            1.000000\n",
      "Weight of Default     1.000000\n",
      "AUC Train             0.922684\n",
      "AUC Test 1            0.904989\n",
      "AUC Test 2            0.939599\n",
      "Name: 37, dtype: float64\n"
     ]
    },
    {
     "name": "stderr",
     "output_type": "stream",
     "text": [
      "C:\\Users\\aniqa\\AppData\\Local\\Temp\\ipykernel_18896\\4158414759.py:40: FutureWarning: The frame.append method is deprecated and will be removed from pandas in a future version. Use pandas.concat instead.\n",
      "  results_table = results_table.append({\n"
     ]
    },
    {
     "name": "stdout",
     "output_type": "stream",
     "text": [
      "Trees                50.000000\n",
      "LR                    0.010000\n",
      "Subsample             0.500000\n",
      "% Features            1.000000\n",
      "Weight of Default     5.000000\n",
      "AUC Train             0.922323\n",
      "AUC Test 1            0.905639\n",
      "AUC Test 2            0.938373\n",
      "Name: 38, dtype: float64\n"
     ]
    },
    {
     "name": "stderr",
     "output_type": "stream",
     "text": [
      "C:\\Users\\aniqa\\AppData\\Local\\Temp\\ipykernel_18896\\4158414759.py:40: FutureWarning: The frame.append method is deprecated and will be removed from pandas in a future version. Use pandas.concat instead.\n",
      "  results_table = results_table.append({\n"
     ]
    },
    {
     "name": "stdout",
     "output_type": "stream",
     "text": [
      "Trees                50.000000\n",
      "LR                    0.010000\n",
      "Subsample             0.800000\n",
      "% Features            1.000000\n",
      "Weight of Default     5.000000\n",
      "AUC Train             0.922059\n",
      "AUC Test 1            0.905357\n",
      "AUC Test 2            0.938051\n",
      "Name: 39, dtype: float64\n"
     ]
    },
    {
     "name": "stderr",
     "output_type": "stream",
     "text": [
      "C:\\Users\\aniqa\\AppData\\Local\\Temp\\ipykernel_18896\\4158414759.py:40: FutureWarning: The frame.append method is deprecated and will be removed from pandas in a future version. Use pandas.concat instead.\n",
      "  results_table = results_table.append({\n"
     ]
    },
    {
     "name": "stdout",
     "output_type": "stream",
     "text": [
      "Trees                50.000000\n",
      "LR                    0.010000\n",
      "Subsample             0.500000\n",
      "% Features            1.000000\n",
      "Weight of Default    10.000000\n",
      "AUC Train             0.920365\n",
      "AUC Test 1            0.903720\n",
      "AUC Test 2            0.936449\n",
      "Name: 40, dtype: float64\n"
     ]
    },
    {
     "name": "stderr",
     "output_type": "stream",
     "text": [
      "C:\\Users\\aniqa\\AppData\\Local\\Temp\\ipykernel_18896\\4158414759.py:40: FutureWarning: The frame.append method is deprecated and will be removed from pandas in a future version. Use pandas.concat instead.\n",
      "  results_table = results_table.append({\n"
     ]
    },
    {
     "name": "stdout",
     "output_type": "stream",
     "text": [
      "Trees                50.000000\n",
      "LR                    0.010000\n",
      "Subsample             0.800000\n",
      "% Features            1.000000\n",
      "Weight of Default    10.000000\n",
      "AUC Train             0.920253\n",
      "AUC Test 1            0.903547\n",
      "AUC Test 2            0.936408\n",
      "Name: 41, dtype: float64\n"
     ]
    },
    {
     "name": "stderr",
     "output_type": "stream",
     "text": [
      "C:\\Users\\aniqa\\AppData\\Local\\Temp\\ipykernel_18896\\4158414759.py:40: FutureWarning: The frame.append method is deprecated and will be removed from pandas in a future version. Use pandas.concat instead.\n",
      "  results_table = results_table.append({\n"
     ]
    },
    {
     "name": "stdout",
     "output_type": "stream",
     "text": [
      "Trees                100.000000\n",
      "LR                     0.010000\n",
      "Subsample              0.500000\n",
      "% Features             1.000000\n",
      "Weight of Default      1.000000\n",
      "AUC Train              0.926292\n",
      "AUC Test 1             0.908829\n",
      "AUC Test 2             0.942858\n",
      "Name: 42, dtype: float64\n"
     ]
    },
    {
     "name": "stderr",
     "output_type": "stream",
     "text": [
      "C:\\Users\\aniqa\\AppData\\Local\\Temp\\ipykernel_18896\\4158414759.py:40: FutureWarning: The frame.append method is deprecated and will be removed from pandas in a future version. Use pandas.concat instead.\n",
      "  results_table = results_table.append({\n"
     ]
    },
    {
     "name": "stdout",
     "output_type": "stream",
     "text": [
      "Trees                100.000000\n",
      "LR                     0.010000\n",
      "Subsample              0.800000\n",
      "% Features             1.000000\n",
      "Weight of Default      1.000000\n",
      "AUC Train              0.926161\n",
      "AUC Test 1             0.908727\n",
      "AUC Test 2             0.942518\n",
      "Name: 43, dtype: float64\n"
     ]
    },
    {
     "name": "stderr",
     "output_type": "stream",
     "text": [
      "C:\\Users\\aniqa\\AppData\\Local\\Temp\\ipykernel_18896\\4158414759.py:40: FutureWarning: The frame.append method is deprecated and will be removed from pandas in a future version. Use pandas.concat instead.\n",
      "  results_table = results_table.append({\n"
     ]
    },
    {
     "name": "stdout",
     "output_type": "stream",
     "text": [
      "Trees                100.000000\n",
      "LR                     0.010000\n",
      "Subsample              0.500000\n",
      "% Features             1.000000\n",
      "Weight of Default      5.000000\n",
      "AUC Train              0.924845\n",
      "AUC Test 1             0.907935\n",
      "AUC Test 2             0.940800\n",
      "Name: 44, dtype: float64\n"
     ]
    },
    {
     "name": "stderr",
     "output_type": "stream",
     "text": [
      "C:\\Users\\aniqa\\AppData\\Local\\Temp\\ipykernel_18896\\4158414759.py:40: FutureWarning: The frame.append method is deprecated and will be removed from pandas in a future version. Use pandas.concat instead.\n",
      "  results_table = results_table.append({\n"
     ]
    },
    {
     "name": "stdout",
     "output_type": "stream",
     "text": [
      "Trees                100.000000\n",
      "LR                     0.010000\n",
      "Subsample              0.800000\n",
      "% Features             1.000000\n",
      "Weight of Default      5.000000\n",
      "AUC Train              0.924730\n",
      "AUC Test 1             0.907800\n",
      "AUC Test 2             0.940534\n",
      "Name: 45, dtype: float64\n"
     ]
    },
    {
     "name": "stderr",
     "output_type": "stream",
     "text": [
      "C:\\Users\\aniqa\\AppData\\Local\\Temp\\ipykernel_18896\\4158414759.py:40: FutureWarning: The frame.append method is deprecated and will be removed from pandas in a future version. Use pandas.concat instead.\n",
      "  results_table = results_table.append({\n"
     ]
    },
    {
     "name": "stdout",
     "output_type": "stream",
     "text": [
      "Trees                100.000000\n",
      "LR                     0.010000\n",
      "Subsample              0.500000\n",
      "% Features             1.000000\n",
      "Weight of Default     10.000000\n",
      "AUC Train              0.923379\n",
      "AUC Test 1             0.906426\n",
      "AUC Test 2             0.939304\n",
      "Name: 46, dtype: float64\n"
     ]
    },
    {
     "name": "stderr",
     "output_type": "stream",
     "text": [
      "C:\\Users\\aniqa\\AppData\\Local\\Temp\\ipykernel_18896\\4158414759.py:40: FutureWarning: The frame.append method is deprecated and will be removed from pandas in a future version. Use pandas.concat instead.\n",
      "  results_table = results_table.append({\n"
     ]
    },
    {
     "name": "stdout",
     "output_type": "stream",
     "text": [
      "Trees                100.000000\n",
      "LR                     0.010000\n",
      "Subsample              0.800000\n",
      "% Features             1.000000\n",
      "Weight of Default     10.000000\n",
      "AUC Train              0.923211\n",
      "AUC Test 1             0.906301\n",
      "AUC Test 2             0.939085\n",
      "Name: 47, dtype: float64\n"
     ]
    },
    {
     "name": "stderr",
     "output_type": "stream",
     "text": [
      "C:\\Users\\aniqa\\AppData\\Local\\Temp\\ipykernel_18896\\4158414759.py:40: FutureWarning: The frame.append method is deprecated and will be removed from pandas in a future version. Use pandas.concat instead.\n",
      "  results_table = results_table.append({\n"
     ]
    },
    {
     "name": "stdout",
     "output_type": "stream",
     "text": [
      "Trees                300.000000\n",
      "LR                     0.010000\n",
      "Subsample              0.500000\n",
      "% Features             1.000000\n",
      "Weight of Default      1.000000\n",
      "AUC Train              0.933238\n",
      "AUC Test 1             0.915678\n",
      "AUC Test 2             0.948762\n",
      "Name: 48, dtype: float64\n"
     ]
    },
    {
     "name": "stderr",
     "output_type": "stream",
     "text": [
      "C:\\Users\\aniqa\\AppData\\Local\\Temp\\ipykernel_18896\\4158414759.py:40: FutureWarning: The frame.append method is deprecated and will be removed from pandas in a future version. Use pandas.concat instead.\n",
      "  results_table = results_table.append({\n"
     ]
    },
    {
     "name": "stdout",
     "output_type": "stream",
     "text": [
      "Trees                300.000000\n",
      "LR                     0.010000\n",
      "Subsample              0.800000\n",
      "% Features             1.000000\n",
      "Weight of Default      1.000000\n",
      "AUC Train              0.933216\n",
      "AUC Test 1             0.915631\n",
      "AUC Test 2             0.948579\n",
      "Name: 49, dtype: float64\n"
     ]
    },
    {
     "name": "stderr",
     "output_type": "stream",
     "text": [
      "C:\\Users\\aniqa\\AppData\\Local\\Temp\\ipykernel_18896\\4158414759.py:40: FutureWarning: The frame.append method is deprecated and will be removed from pandas in a future version. Use pandas.concat instead.\n",
      "  results_table = results_table.append({\n"
     ]
    },
    {
     "name": "stdout",
     "output_type": "stream",
     "text": [
      "Trees                300.000000\n",
      "LR                     0.010000\n",
      "Subsample              0.500000\n",
      "% Features             1.000000\n",
      "Weight of Default      5.000000\n",
      "AUC Train              0.932588\n",
      "AUC Test 1             0.915588\n",
      "AUC Test 2             0.947757\n",
      "Name: 50, dtype: float64\n"
     ]
    },
    {
     "name": "stderr",
     "output_type": "stream",
     "text": [
      "C:\\Users\\aniqa\\AppData\\Local\\Temp\\ipykernel_18896\\4158414759.py:40: FutureWarning: The frame.append method is deprecated and will be removed from pandas in a future version. Use pandas.concat instead.\n",
      "  results_table = results_table.append({\n"
     ]
    },
    {
     "name": "stdout",
     "output_type": "stream",
     "text": [
      "Trees                300.000000\n",
      "LR                     0.010000\n",
      "Subsample              0.800000\n",
      "% Features             1.000000\n",
      "Weight of Default      5.000000\n",
      "AUC Train              0.932597\n",
      "AUC Test 1             0.915626\n",
      "AUC Test 2             0.947551\n",
      "Name: 51, dtype: float64\n"
     ]
    },
    {
     "name": "stderr",
     "output_type": "stream",
     "text": [
      "C:\\Users\\aniqa\\AppData\\Local\\Temp\\ipykernel_18896\\4158414759.py:40: FutureWarning: The frame.append method is deprecated and will be removed from pandas in a future version. Use pandas.concat instead.\n",
      "  results_table = results_table.append({\n"
     ]
    },
    {
     "name": "stdout",
     "output_type": "stream",
     "text": [
      "Trees                300.000000\n",
      "LR                     0.010000\n",
      "Subsample              0.500000\n",
      "% Features             1.000000\n",
      "Weight of Default     10.000000\n",
      "AUC Train              0.931399\n",
      "AUC Test 1             0.914649\n",
      "AUC Test 2             0.946410\n",
      "Name: 52, dtype: float64\n"
     ]
    },
    {
     "name": "stderr",
     "output_type": "stream",
     "text": [
      "C:\\Users\\aniqa\\AppData\\Local\\Temp\\ipykernel_18896\\4158414759.py:40: FutureWarning: The frame.append method is deprecated and will be removed from pandas in a future version. Use pandas.concat instead.\n",
      "  results_table = results_table.append({\n"
     ]
    },
    {
     "name": "stdout",
     "output_type": "stream",
     "text": [
      "Trees                300.000000\n",
      "LR                     0.010000\n",
      "Subsample              0.800000\n",
      "% Features             1.000000\n",
      "Weight of Default     10.000000\n",
      "AUC Train              0.931394\n",
      "AUC Test 1             0.914600\n",
      "AUC Test 2             0.946247\n",
      "Name: 53, dtype: float64\n"
     ]
    },
    {
     "name": "stderr",
     "output_type": "stream",
     "text": [
      "C:\\Users\\aniqa\\AppData\\Local\\Temp\\ipykernel_18896\\4158414759.py:40: FutureWarning: The frame.append method is deprecated and will be removed from pandas in a future version. Use pandas.concat instead.\n",
      "  results_table = results_table.append({\n"
     ]
    },
    {
     "name": "stdout",
     "output_type": "stream",
     "text": [
      "Trees                50.000000\n",
      "LR                    0.100000\n",
      "Subsample             0.500000\n",
      "% Features            1.000000\n",
      "Weight of Default     1.000000\n",
      "AUC Train             0.936437\n",
      "AUC Test 1            0.918836\n",
      "AUC Test 2            0.951410\n",
      "Name: 54, dtype: float64\n"
     ]
    },
    {
     "name": "stderr",
     "output_type": "stream",
     "text": [
      "C:\\Users\\aniqa\\AppData\\Local\\Temp\\ipykernel_18896\\4158414759.py:40: FutureWarning: The frame.append method is deprecated and will be removed from pandas in a future version. Use pandas.concat instead.\n",
      "  results_table = results_table.append({\n"
     ]
    },
    {
     "name": "stdout",
     "output_type": "stream",
     "text": [
      "Trees                50.000000\n",
      "LR                    0.100000\n",
      "Subsample             0.800000\n",
      "% Features            1.000000\n",
      "Weight of Default     1.000000\n",
      "AUC Train             0.936633\n",
      "AUC Test 1            0.918912\n",
      "AUC Test 2            0.951373\n",
      "Name: 55, dtype: float64\n"
     ]
    },
    {
     "name": "stderr",
     "output_type": "stream",
     "text": [
      "C:\\Users\\aniqa\\AppData\\Local\\Temp\\ipykernel_18896\\4158414759.py:40: FutureWarning: The frame.append method is deprecated and will be removed from pandas in a future version. Use pandas.concat instead.\n",
      "  results_table = results_table.append({\n"
     ]
    },
    {
     "name": "stdout",
     "output_type": "stream",
     "text": [
      "Trees                50.000000\n",
      "LR                    0.100000\n",
      "Subsample             0.500000\n",
      "% Features            1.000000\n",
      "Weight of Default     5.000000\n",
      "AUC Train             0.936352\n",
      "AUC Test 1            0.919275\n",
      "AUC Test 2            0.951117\n",
      "Name: 56, dtype: float64\n"
     ]
    },
    {
     "name": "stderr",
     "output_type": "stream",
     "text": [
      "C:\\Users\\aniqa\\AppData\\Local\\Temp\\ipykernel_18896\\4158414759.py:40: FutureWarning: The frame.append method is deprecated and will be removed from pandas in a future version. Use pandas.concat instead.\n",
      "  results_table = results_table.append({\n"
     ]
    },
    {
     "name": "stdout",
     "output_type": "stream",
     "text": [
      "Trees                50.000000\n",
      "LR                    0.100000\n",
      "Subsample             0.800000\n",
      "% Features            1.000000\n",
      "Weight of Default     5.000000\n",
      "AUC Train             0.936450\n",
      "AUC Test 1            0.919017\n",
      "AUC Test 2            0.951151\n",
      "Name: 57, dtype: float64\n"
     ]
    },
    {
     "name": "stderr",
     "output_type": "stream",
     "text": [
      "C:\\Users\\aniqa\\AppData\\Local\\Temp\\ipykernel_18896\\4158414759.py:40: FutureWarning: The frame.append method is deprecated and will be removed from pandas in a future version. Use pandas.concat instead.\n",
      "  results_table = results_table.append({\n"
     ]
    },
    {
     "name": "stdout",
     "output_type": "stream",
     "text": [
      "Trees                50.000000\n",
      "LR                    0.100000\n",
      "Subsample             0.500000\n",
      "% Features            1.000000\n",
      "Weight of Default    10.000000\n",
      "AUC Train             0.935910\n",
      "AUC Test 1            0.918743\n",
      "AUC Test 2            0.950561\n",
      "Name: 58, dtype: float64\n"
     ]
    },
    {
     "name": "stderr",
     "output_type": "stream",
     "text": [
      "C:\\Users\\aniqa\\AppData\\Local\\Temp\\ipykernel_18896\\4158414759.py:40: FutureWarning: The frame.append method is deprecated and will be removed from pandas in a future version. Use pandas.concat instead.\n",
      "  results_table = results_table.append({\n"
     ]
    },
    {
     "name": "stdout",
     "output_type": "stream",
     "text": [
      "Trees                50.000000\n",
      "LR                    0.100000\n",
      "Subsample             0.800000\n",
      "% Features            1.000000\n",
      "Weight of Default    10.000000\n",
      "AUC Train             0.936096\n",
      "AUC Test 1            0.918861\n",
      "AUC Test 2            0.950730\n",
      "Name: 59, dtype: float64\n"
     ]
    },
    {
     "name": "stderr",
     "output_type": "stream",
     "text": [
      "C:\\Users\\aniqa\\AppData\\Local\\Temp\\ipykernel_18896\\4158414759.py:40: FutureWarning: The frame.append method is deprecated and will be removed from pandas in a future version. Use pandas.concat instead.\n",
      "  results_table = results_table.append({\n"
     ]
    },
    {
     "name": "stdout",
     "output_type": "stream",
     "text": [
      "Trees                100.000000\n",
      "LR                     0.100000\n",
      "Subsample              0.500000\n",
      "% Features             1.000000\n",
      "Weight of Default      1.000000\n",
      "AUC Train              0.940964\n",
      "AUC Test 1             0.922477\n",
      "AUC Test 2             0.954440\n",
      "Name: 60, dtype: float64\n"
     ]
    },
    {
     "name": "stderr",
     "output_type": "stream",
     "text": [
      "C:\\Users\\aniqa\\AppData\\Local\\Temp\\ipykernel_18896\\4158414759.py:40: FutureWarning: The frame.append method is deprecated and will be removed from pandas in a future version. Use pandas.concat instead.\n",
      "  results_table = results_table.append({\n"
     ]
    },
    {
     "name": "stdout",
     "output_type": "stream",
     "text": [
      "Trees                100.000000\n",
      "LR                     0.100000\n",
      "Subsample              0.800000\n",
      "% Features             1.000000\n",
      "Weight of Default      1.000000\n",
      "AUC Train              0.941239\n",
      "AUC Test 1             0.922598\n",
      "AUC Test 2             0.954525\n",
      "Name: 61, dtype: float64\n"
     ]
    },
    {
     "name": "stderr",
     "output_type": "stream",
     "text": [
      "C:\\Users\\aniqa\\AppData\\Local\\Temp\\ipykernel_18896\\4158414759.py:40: FutureWarning: The frame.append method is deprecated and will be removed from pandas in a future version. Use pandas.concat instead.\n",
      "  results_table = results_table.append({\n"
     ]
    },
    {
     "name": "stdout",
     "output_type": "stream",
     "text": [
      "Trees                100.000000\n",
      "LR                     0.100000\n",
      "Subsample              0.500000\n",
      "% Features             1.000000\n",
      "Weight of Default      5.000000\n",
      "AUC Train              0.940718\n",
      "AUC Test 1             0.922620\n",
      "AUC Test 2             0.954218\n",
      "Name: 62, dtype: float64\n"
     ]
    },
    {
     "name": "stderr",
     "output_type": "stream",
     "text": [
      "C:\\Users\\aniqa\\AppData\\Local\\Temp\\ipykernel_18896\\4158414759.py:40: FutureWarning: The frame.append method is deprecated and will be removed from pandas in a future version. Use pandas.concat instead.\n",
      "  results_table = results_table.append({\n"
     ]
    },
    {
     "name": "stdout",
     "output_type": "stream",
     "text": [
      "Trees                100.000000\n",
      "LR                     0.100000\n",
      "Subsample              0.800000\n",
      "% Features             1.000000\n",
      "Weight of Default      5.000000\n",
      "AUC Train              0.941040\n",
      "AUC Test 1             0.922657\n",
      "AUC Test 2             0.954273\n",
      "Name: 63, dtype: float64\n"
     ]
    },
    {
     "name": "stderr",
     "output_type": "stream",
     "text": [
      "C:\\Users\\aniqa\\AppData\\Local\\Temp\\ipykernel_18896\\4158414759.py:40: FutureWarning: The frame.append method is deprecated and will be removed from pandas in a future version. Use pandas.concat instead.\n",
      "  results_table = results_table.append({\n"
     ]
    },
    {
     "name": "stdout",
     "output_type": "stream",
     "text": [
      "Trees                100.000000\n",
      "LR                     0.100000\n",
      "Subsample              0.500000\n",
      "% Features             1.000000\n",
      "Weight of Default     10.000000\n",
      "AUC Train              0.940360\n",
      "AUC Test 1             0.922248\n",
      "AUC Test 2             0.953902\n",
      "Name: 64, dtype: float64\n"
     ]
    },
    {
     "name": "stderr",
     "output_type": "stream",
     "text": [
      "C:\\Users\\aniqa\\AppData\\Local\\Temp\\ipykernel_18896\\4158414759.py:40: FutureWarning: The frame.append method is deprecated and will be removed from pandas in a future version. Use pandas.concat instead.\n",
      "  results_table = results_table.append({\n"
     ]
    },
    {
     "name": "stdout",
     "output_type": "stream",
     "text": [
      "Trees                100.000000\n",
      "LR                     0.100000\n",
      "Subsample              0.800000\n",
      "% Features             1.000000\n",
      "Weight of Default     10.000000\n",
      "AUC Train              0.940720\n",
      "AUC Test 1             0.922454\n",
      "AUC Test 2             0.953982\n",
      "Name: 65, dtype: float64\n"
     ]
    },
    {
     "name": "stderr",
     "output_type": "stream",
     "text": [
      "C:\\Users\\aniqa\\AppData\\Local\\Temp\\ipykernel_18896\\4158414759.py:40: FutureWarning: The frame.append method is deprecated and will be removed from pandas in a future version. Use pandas.concat instead.\n",
      "  results_table = results_table.append({\n"
     ]
    },
    {
     "name": "stdout",
     "output_type": "stream",
     "text": [
      "Trees                300.000000\n",
      "LR                     0.100000\n",
      "Subsample              0.500000\n",
      "% Features             1.000000\n",
      "Weight of Default      1.000000\n",
      "AUC Train              0.948146\n",
      "AUC Test 1             0.926054\n",
      "AUC Test 2             0.957130\n",
      "Name: 66, dtype: float64\n"
     ]
    },
    {
     "name": "stderr",
     "output_type": "stream",
     "text": [
      "C:\\Users\\aniqa\\AppData\\Local\\Temp\\ipykernel_18896\\4158414759.py:40: FutureWarning: The frame.append method is deprecated and will be removed from pandas in a future version. Use pandas.concat instead.\n",
      "  results_table = results_table.append({\n"
     ]
    },
    {
     "name": "stdout",
     "output_type": "stream",
     "text": [
      "Trees                300.000000\n",
      "LR                     0.100000\n",
      "Subsample              0.800000\n",
      "% Features             1.000000\n",
      "Weight of Default      1.000000\n",
      "AUC Train              0.948558\n",
      "AUC Test 1             0.926493\n",
      "AUC Test 2             0.957471\n",
      "Name: 67, dtype: float64\n"
     ]
    },
    {
     "name": "stderr",
     "output_type": "stream",
     "text": [
      "C:\\Users\\aniqa\\AppData\\Local\\Temp\\ipykernel_18896\\4158414759.py:40: FutureWarning: The frame.append method is deprecated and will be removed from pandas in a future version. Use pandas.concat instead.\n",
      "  results_table = results_table.append({\n"
     ]
    },
    {
     "name": "stdout",
     "output_type": "stream",
     "text": [
      "Trees                300.000000\n",
      "LR                     0.100000\n",
      "Subsample              0.500000\n",
      "% Features             1.000000\n",
      "Weight of Default      5.000000\n",
      "AUC Train              0.947488\n",
      "AUC Test 1             0.925983\n",
      "AUC Test 2             0.956505\n",
      "Name: 68, dtype: float64\n"
     ]
    },
    {
     "name": "stderr",
     "output_type": "stream",
     "text": [
      "C:\\Users\\aniqa\\AppData\\Local\\Temp\\ipykernel_18896\\4158414759.py:40: FutureWarning: The frame.append method is deprecated and will be removed from pandas in a future version. Use pandas.concat instead.\n",
      "  results_table = results_table.append({\n"
     ]
    },
    {
     "name": "stdout",
     "output_type": "stream",
     "text": [
      "Trees                300.000000\n",
      "LR                     0.100000\n",
      "Subsample              0.800000\n",
      "% Features             1.000000\n",
      "Weight of Default      5.000000\n",
      "AUC Train              0.948218\n",
      "AUC Test 1             0.926494\n",
      "AUC Test 2             0.956973\n",
      "Name: 69, dtype: float64\n"
     ]
    },
    {
     "name": "stderr",
     "output_type": "stream",
     "text": [
      "C:\\Users\\aniqa\\AppData\\Local\\Temp\\ipykernel_18896\\4158414759.py:40: FutureWarning: The frame.append method is deprecated and will be removed from pandas in a future version. Use pandas.concat instead.\n",
      "  results_table = results_table.append({\n"
     ]
    },
    {
     "name": "stdout",
     "output_type": "stream",
     "text": [
      "Trees                300.000000\n",
      "LR                     0.100000\n",
      "Subsample              0.500000\n",
      "% Features             1.000000\n",
      "Weight of Default     10.000000\n",
      "AUC Train              0.946772\n",
      "AUC Test 1             0.925421\n",
      "AUC Test 2             0.955943\n",
      "Name: 70, dtype: float64\n",
      "Trees                300.000000\n",
      "LR                     0.100000\n",
      "Subsample              0.800000\n",
      "% Features             1.000000\n",
      "Weight of Default     10.000000\n",
      "AUC Train              0.947885\n",
      "AUC Test 1             0.926134\n",
      "AUC Test 2             0.956620\n",
      "Name: 71, dtype: float64\n"
     ]
    },
    {
     "name": "stderr",
     "output_type": "stream",
     "text": [
      "C:\\Users\\aniqa\\AppData\\Local\\Temp\\ipykernel_18896\\4158414759.py:40: FutureWarning: The frame.append method is deprecated and will be removed from pandas in a future version. Use pandas.concat instead.\n",
      "  results_table = results_table.append({\n"
     ]
    }
   ],
   "source": [
    "from sklearn.model_selection import ParameterGrid\n",
    "clf = xgb.XGBClassifier(objective='binary:logistic', seed=42)\n",
    "\n",
    "# Define the parameter grid\n",
    "param_grid = {\n",
    "    'n_estimators': [50, 100, 300],\n",
    "    'learning_rate': [0.01, 0.1],\n",
    "    'subsample': [0.5, 0.8],\n",
    "    'colsample_bytree': [0.5, 1.0],\n",
    "    'scale_pos_weight': [1, 5, 10]\n",
    "}\n",
    "\n",
    "# Initialize the grid search\n",
    "grid_search = GridSearchCV(clf, param_grid=param_grid, cv=5, scoring='roc_auc', n_jobs=-1)\n",
    "\n",
    "# Initialize the dataframe to store the results\n",
    "results_table = pd.DataFrame(columns=[\"Trees\", \"LR\", \"Subsample\", \"% Features\", \"Weight of Default\", \"AUC Train\", \"AUC Test 1\", \"AUC Test 2\"])\n",
    "\n",
    "# Loop over all parameter combinations\n",
    "for params in ParameterGrid(param_grid):\n",
    "    # Set the parameters for the classifier\n",
    "    clf.set_params(**params)\n",
    "    \n",
    "    # Fit the classifier to the training data\n",
    "    clf.fit(X_train_filtered, Y_train)\n",
    "    \n",
    "    # Compute the AUC score on the training set\n",
    "    y_train_pred = clf.predict_proba(X_train_filtered)[:, 1]\n",
    "    auc_train = roc_auc_score(Y_train, y_train_pred)\n",
    "    \n",
    "    # Compute the AUC score on the first test set\n",
    "    y_test1_pred = clf.predict_proba(X_test1)[:, 1]\n",
    "    auc_test1 = roc_auc_score(Y_test1, y_test1_pred)\n",
    "    \n",
    "    # Compute the AUC score on the second test set\n",
    "    y_test2_pred = clf.predict_proba(X_test2)[:, 1]\n",
    "    auc_test2 = roc_auc_score(Y_test2, y_test2_pred)\n",
    "    \n",
    "    # Append the results to the dataframe\n",
    "    results_table = results_table.append({\n",
    "        \"Trees\": params['n_estimators'],\n",
    "        \"LR\": params['learning_rate'],\n",
    "        \"Subsample\": params['subsample'],\n",
    "        \"% Features\": params['colsample_bytree'],\n",
    "        \"Weight of Default\": params['scale_pos_weight'],\n",
    "        \"AUC Train\": auc_train,\n",
    "        \"AUC Test 1\": auc_test1,\n",
    "        \"AUC Test 2\": auc_test2\n",
    "    }, ignore_index=True)\n",
    "    \n",
    "    # Print the current results\n",
    "    print(results_table.iloc[-1])"
   ]
  },
  {
   "cell_type": "code",
   "execution_count": 36,
   "id": "c746249a",
   "metadata": {},
   "outputs": [],
   "source": [
    "results_table.to_csv(r\"C:\\Users\\aniqa\\Desktop\\Courses\\Semester_2\\Machine_Learning\\Project 1\\Code\\XGB_GridSearch_results.csv\")"
   ]
  },
  {
   "cell_type": "code",
   "execution_count": 4,
   "id": "148a077a",
   "metadata": {},
   "outputs": [
    {
     "data": {
      "text/html": [
       "<div>\n",
       "<style scoped>\n",
       "    .dataframe tbody tr th:only-of-type {\n",
       "        vertical-align: middle;\n",
       "    }\n",
       "\n",
       "    .dataframe tbody tr th {\n",
       "        vertical-align: top;\n",
       "    }\n",
       "\n",
       "    .dataframe thead th {\n",
       "        text-align: right;\n",
       "    }\n",
       "</style>\n",
       "<table border=\"1\" class=\"dataframe\">\n",
       "  <thead>\n",
       "    <tr style=\"text-align: right;\">\n",
       "      <th></th>\n",
       "      <th>Trees</th>\n",
       "      <th>LR</th>\n",
       "      <th>Subsample</th>\n",
       "      <th>% Features</th>\n",
       "      <th>Weight of Default</th>\n",
       "      <th>AUC Train</th>\n",
       "      <th>AUC Test 1</th>\n",
       "      <th>AUC Test 2</th>\n",
       "    </tr>\n",
       "  </thead>\n",
       "  <tbody>\n",
       "    <tr>\n",
       "      <th>0</th>\n",
       "      <td>50</td>\n",
       "      <td>0.01</td>\n",
       "      <td>0.5</td>\n",
       "      <td>0.5</td>\n",
       "      <td>1</td>\n",
       "      <td>0.927606</td>\n",
       "      <td>0.910497</td>\n",
       "      <td>0.944293</td>\n",
       "    </tr>\n",
       "    <tr>\n",
       "      <th>1</th>\n",
       "      <td>50</td>\n",
       "      <td>0.01</td>\n",
       "      <td>0.8</td>\n",
       "      <td>0.5</td>\n",
       "      <td>1</td>\n",
       "      <td>0.927579</td>\n",
       "      <td>0.910308</td>\n",
       "      <td>0.944188</td>\n",
       "    </tr>\n",
       "    <tr>\n",
       "      <th>2</th>\n",
       "      <td>50</td>\n",
       "      <td>0.01</td>\n",
       "      <td>0.5</td>\n",
       "      <td>0.5</td>\n",
       "      <td>5</td>\n",
       "      <td>0.926159</td>\n",
       "      <td>0.909704</td>\n",
       "      <td>0.942208</td>\n",
       "    </tr>\n",
       "    <tr>\n",
       "      <th>3</th>\n",
       "      <td>50</td>\n",
       "      <td>0.01</td>\n",
       "      <td>0.8</td>\n",
       "      <td>0.5</td>\n",
       "      <td>5</td>\n",
       "      <td>0.926024</td>\n",
       "      <td>0.909482</td>\n",
       "      <td>0.942005</td>\n",
       "    </tr>\n",
       "    <tr>\n",
       "      <th>4</th>\n",
       "      <td>50</td>\n",
       "      <td>0.01</td>\n",
       "      <td>0.5</td>\n",
       "      <td>0.5</td>\n",
       "      <td>10</td>\n",
       "      <td>0.924595</td>\n",
       "      <td>0.908080</td>\n",
       "      <td>0.940674</td>\n",
       "    </tr>\n",
       "    <tr>\n",
       "      <th>...</th>\n",
       "      <td>...</td>\n",
       "      <td>...</td>\n",
       "      <td>...</td>\n",
       "      <td>...</td>\n",
       "      <td>...</td>\n",
       "      <td>...</td>\n",
       "      <td>...</td>\n",
       "      <td>...</td>\n",
       "    </tr>\n",
       "    <tr>\n",
       "      <th>67</th>\n",
       "      <td>300</td>\n",
       "      <td>0.10</td>\n",
       "      <td>0.8</td>\n",
       "      <td>1.0</td>\n",
       "      <td>1</td>\n",
       "      <td>0.948558</td>\n",
       "      <td>0.926493</td>\n",
       "      <td>0.957471</td>\n",
       "    </tr>\n",
       "    <tr>\n",
       "      <th>68</th>\n",
       "      <td>300</td>\n",
       "      <td>0.10</td>\n",
       "      <td>0.5</td>\n",
       "      <td>1.0</td>\n",
       "      <td>5</td>\n",
       "      <td>0.947488</td>\n",
       "      <td>0.925983</td>\n",
       "      <td>0.956505</td>\n",
       "    </tr>\n",
       "    <tr>\n",
       "      <th>69</th>\n",
       "      <td>300</td>\n",
       "      <td>0.10</td>\n",
       "      <td>0.8</td>\n",
       "      <td>1.0</td>\n",
       "      <td>5</td>\n",
       "      <td>0.948218</td>\n",
       "      <td>0.926494</td>\n",
       "      <td>0.956973</td>\n",
       "    </tr>\n",
       "    <tr>\n",
       "      <th>70</th>\n",
       "      <td>300</td>\n",
       "      <td>0.10</td>\n",
       "      <td>0.5</td>\n",
       "      <td>1.0</td>\n",
       "      <td>10</td>\n",
       "      <td>0.946772</td>\n",
       "      <td>0.925421</td>\n",
       "      <td>0.955943</td>\n",
       "    </tr>\n",
       "    <tr>\n",
       "      <th>71</th>\n",
       "      <td>300</td>\n",
       "      <td>0.10</td>\n",
       "      <td>0.8</td>\n",
       "      <td>1.0</td>\n",
       "      <td>10</td>\n",
       "      <td>0.947885</td>\n",
       "      <td>0.926134</td>\n",
       "      <td>0.956620</td>\n",
       "    </tr>\n",
       "  </tbody>\n",
       "</table>\n",
       "<p>72 rows × 8 columns</p>\n",
       "</div>"
      ],
      "text/plain": [
       "    Trees    LR  Subsample  % Features  Weight of Default  AUC Train  \\\n",
       "0      50  0.01        0.5         0.5                  1   0.927606   \n",
       "1      50  0.01        0.8         0.5                  1   0.927579   \n",
       "2      50  0.01        0.5         0.5                  5   0.926159   \n",
       "3      50  0.01        0.8         0.5                  5   0.926024   \n",
       "4      50  0.01        0.5         0.5                 10   0.924595   \n",
       "..    ...   ...        ...         ...                ...        ...   \n",
       "67    300  0.10        0.8         1.0                  1   0.948558   \n",
       "68    300  0.10        0.5         1.0                  5   0.947488   \n",
       "69    300  0.10        0.8         1.0                  5   0.948218   \n",
       "70    300  0.10        0.5         1.0                 10   0.946772   \n",
       "71    300  0.10        0.8         1.0                 10   0.947885   \n",
       "\n",
       "    AUC Test 1  AUC Test 2  \n",
       "0     0.910497    0.944293  \n",
       "1     0.910308    0.944188  \n",
       "2     0.909704    0.942208  \n",
       "3     0.909482    0.942005  \n",
       "4     0.908080    0.940674  \n",
       "..         ...         ...  \n",
       "67    0.926493    0.957471  \n",
       "68    0.925983    0.956505  \n",
       "69    0.926494    0.956973  \n",
       "70    0.925421    0.955943  \n",
       "71    0.926134    0.956620  \n",
       "\n",
       "[72 rows x 8 columns]"
      ]
     },
     "execution_count": 4,
     "metadata": {},
     "output_type": "execute_result"
    }
   ],
   "source": [
    "results_table = pd.read_csv(r\"C:\\Users\\aniqa\\Desktop\\Courses\\Semester_2\\Machine_Learning\\Project 1\\Code\\XGB_GridSearch_results.csv\")\n",
    "results_table"
   ]
  },
  {
   "cell_type": "code",
   "execution_count": 5,
   "id": "edd8ca5b",
   "metadata": {},
   "outputs": [
    {
     "data": {
      "text/html": [
       "<div>\n",
       "<style scoped>\n",
       "    .dataframe tbody tr th:only-of-type {\n",
       "        vertical-align: middle;\n",
       "    }\n",
       "\n",
       "    .dataframe tbody tr th {\n",
       "        vertical-align: top;\n",
       "    }\n",
       "\n",
       "    .dataframe thead th {\n",
       "        text-align: right;\n",
       "    }\n",
       "</style>\n",
       "<table border=\"1\" class=\"dataframe\">\n",
       "  <thead>\n",
       "    <tr style=\"text-align: right;\">\n",
       "      <th></th>\n",
       "      <th>Trees</th>\n",
       "      <th>LR</th>\n",
       "      <th>Subsample</th>\n",
       "      <th>% Features</th>\n",
       "      <th>Weight of Default</th>\n",
       "      <th>AUC Train</th>\n",
       "      <th>AUC Test 1</th>\n",
       "      <th>AUC Test 2</th>\n",
       "      <th>Average_AUC</th>\n",
       "      <th>AUC_Variance</th>\n",
       "    </tr>\n",
       "  </thead>\n",
       "  <tbody>\n",
       "    <tr>\n",
       "      <th>0</th>\n",
       "      <td>50</td>\n",
       "      <td>0.01</td>\n",
       "      <td>0.5</td>\n",
       "      <td>0.5</td>\n",
       "      <td>1</td>\n",
       "      <td>0.927606</td>\n",
       "      <td>0.910497</td>\n",
       "      <td>0.944293</td>\n",
       "      <td>0.927466</td>\n",
       "      <td>0.000190</td>\n",
       "    </tr>\n",
       "    <tr>\n",
       "      <th>1</th>\n",
       "      <td>50</td>\n",
       "      <td>0.01</td>\n",
       "      <td>0.8</td>\n",
       "      <td>0.5</td>\n",
       "      <td>1</td>\n",
       "      <td>0.927579</td>\n",
       "      <td>0.910308</td>\n",
       "      <td>0.944188</td>\n",
       "      <td>0.927358</td>\n",
       "      <td>0.000191</td>\n",
       "    </tr>\n",
       "    <tr>\n",
       "      <th>2</th>\n",
       "      <td>50</td>\n",
       "      <td>0.01</td>\n",
       "      <td>0.5</td>\n",
       "      <td>0.5</td>\n",
       "      <td>5</td>\n",
       "      <td>0.926159</td>\n",
       "      <td>0.909704</td>\n",
       "      <td>0.942208</td>\n",
       "      <td>0.926023</td>\n",
       "      <td>0.000176</td>\n",
       "    </tr>\n",
       "    <tr>\n",
       "      <th>3</th>\n",
       "      <td>50</td>\n",
       "      <td>0.01</td>\n",
       "      <td>0.8</td>\n",
       "      <td>0.5</td>\n",
       "      <td>5</td>\n",
       "      <td>0.926024</td>\n",
       "      <td>0.909482</td>\n",
       "      <td>0.942005</td>\n",
       "      <td>0.925837</td>\n",
       "      <td>0.000176</td>\n",
       "    </tr>\n",
       "    <tr>\n",
       "      <th>4</th>\n",
       "      <td>50</td>\n",
       "      <td>0.01</td>\n",
       "      <td>0.5</td>\n",
       "      <td>0.5</td>\n",
       "      <td>10</td>\n",
       "      <td>0.924595</td>\n",
       "      <td>0.908080</td>\n",
       "      <td>0.940674</td>\n",
       "      <td>0.924450</td>\n",
       "      <td>0.000177</td>\n",
       "    </tr>\n",
       "    <tr>\n",
       "      <th>...</th>\n",
       "      <td>...</td>\n",
       "      <td>...</td>\n",
       "      <td>...</td>\n",
       "      <td>...</td>\n",
       "      <td>...</td>\n",
       "      <td>...</td>\n",
       "      <td>...</td>\n",
       "      <td>...</td>\n",
       "      <td>...</td>\n",
       "      <td>...</td>\n",
       "    </tr>\n",
       "    <tr>\n",
       "      <th>67</th>\n",
       "      <td>300</td>\n",
       "      <td>0.10</td>\n",
       "      <td>0.8</td>\n",
       "      <td>1.0</td>\n",
       "      <td>1</td>\n",
       "      <td>0.948558</td>\n",
       "      <td>0.926493</td>\n",
       "      <td>0.957471</td>\n",
       "      <td>0.944174</td>\n",
       "      <td>0.000170</td>\n",
       "    </tr>\n",
       "    <tr>\n",
       "      <th>68</th>\n",
       "      <td>300</td>\n",
       "      <td>0.10</td>\n",
       "      <td>0.5</td>\n",
       "      <td>1.0</td>\n",
       "      <td>5</td>\n",
       "      <td>0.947488</td>\n",
       "      <td>0.925983</td>\n",
       "      <td>0.956505</td>\n",
       "      <td>0.943325</td>\n",
       "      <td>0.000164</td>\n",
       "    </tr>\n",
       "    <tr>\n",
       "      <th>69</th>\n",
       "      <td>300</td>\n",
       "      <td>0.10</td>\n",
       "      <td>0.8</td>\n",
       "      <td>1.0</td>\n",
       "      <td>5</td>\n",
       "      <td>0.948218</td>\n",
       "      <td>0.926494</td>\n",
       "      <td>0.956973</td>\n",
       "      <td>0.943895</td>\n",
       "      <td>0.000164</td>\n",
       "    </tr>\n",
       "    <tr>\n",
       "      <th>70</th>\n",
       "      <td>300</td>\n",
       "      <td>0.10</td>\n",
       "      <td>0.5</td>\n",
       "      <td>1.0</td>\n",
       "      <td>10</td>\n",
       "      <td>0.946772</td>\n",
       "      <td>0.925421</td>\n",
       "      <td>0.955943</td>\n",
       "      <td>0.942712</td>\n",
       "      <td>0.000164</td>\n",
       "    </tr>\n",
       "    <tr>\n",
       "      <th>71</th>\n",
       "      <td>300</td>\n",
       "      <td>0.10</td>\n",
       "      <td>0.8</td>\n",
       "      <td>1.0</td>\n",
       "      <td>10</td>\n",
       "      <td>0.947885</td>\n",
       "      <td>0.926134</td>\n",
       "      <td>0.956620</td>\n",
       "      <td>0.943546</td>\n",
       "      <td>0.000164</td>\n",
       "    </tr>\n",
       "  </tbody>\n",
       "</table>\n",
       "<p>72 rows × 10 columns</p>\n",
       "</div>"
      ],
      "text/plain": [
       "    Trees    LR  Subsample  % Features  Weight of Default  AUC Train  \\\n",
       "0      50  0.01        0.5         0.5                  1   0.927606   \n",
       "1      50  0.01        0.8         0.5                  1   0.927579   \n",
       "2      50  0.01        0.5         0.5                  5   0.926159   \n",
       "3      50  0.01        0.8         0.5                  5   0.926024   \n",
       "4      50  0.01        0.5         0.5                 10   0.924595   \n",
       "..    ...   ...        ...         ...                ...        ...   \n",
       "67    300  0.10        0.8         1.0                  1   0.948558   \n",
       "68    300  0.10        0.5         1.0                  5   0.947488   \n",
       "69    300  0.10        0.8         1.0                  5   0.948218   \n",
       "70    300  0.10        0.5         1.0                 10   0.946772   \n",
       "71    300  0.10        0.8         1.0                 10   0.947885   \n",
       "\n",
       "    AUC Test 1  AUC Test 2  Average_AUC  AUC_Variance  \n",
       "0     0.910497    0.944293     0.927466      0.000190  \n",
       "1     0.910308    0.944188     0.927358      0.000191  \n",
       "2     0.909704    0.942208     0.926023      0.000176  \n",
       "3     0.909482    0.942005     0.925837      0.000176  \n",
       "4     0.908080    0.940674     0.924450      0.000177  \n",
       "..         ...         ...          ...           ...  \n",
       "67    0.926493    0.957471     0.944174      0.000170  \n",
       "68    0.925983    0.956505     0.943325      0.000164  \n",
       "69    0.926494    0.956973     0.943895      0.000164  \n",
       "70    0.925421    0.955943     0.942712      0.000164  \n",
       "71    0.926134    0.956620     0.943546      0.000164  \n",
       "\n",
       "[72 rows x 10 columns]"
      ]
     },
     "execution_count": 5,
     "metadata": {},
     "output_type": "execute_result"
    }
   ],
   "source": [
    "#Calculate the average AUC across test samples\n",
    "results_table = results_table.assign(Average_AUC = np.mean(results_table[['AUC Train','AUC Test 1', 'AUC Test 2']], axis=1))\n",
    "\n",
    "# Calculate the variance of AUC across test samples\n",
    "results_table = results_table.assign(AUC_Variance = np.var(results_table[['AUC Train','AUC Test 1', 'AUC Test 2']], axis=1))\n",
    "results_table"
   ]
  },
  {
   "cell_type": "code",
   "execution_count": 6,
   "id": "98be985a",
   "metadata": {},
   "outputs": [],
   "source": [
    "results_table.to_csv(r\"C:\\Users\\aniqa\\Desktop\\Courses\\Semester_2\\Machine_Learning\\Project 1\\Code\\XGB_GridSearch_results_final.csv\")"
   ]
  },
  {
   "cell_type": "code",
   "execution_count": 54,
   "id": "9624adf6",
   "metadata": {},
   "outputs": [
    {
     "data": {
      "text/html": [
       "<style>#sk-container-id-3 {color: black;background-color: white;}#sk-container-id-3 pre{padding: 0;}#sk-container-id-3 div.sk-toggleable {background-color: white;}#sk-container-id-3 label.sk-toggleable__label {cursor: pointer;display: block;width: 100%;margin-bottom: 0;padding: 0.3em;box-sizing: border-box;text-align: center;}#sk-container-id-3 label.sk-toggleable__label-arrow:before {content: \"▸\";float: left;margin-right: 0.25em;color: #696969;}#sk-container-id-3 label.sk-toggleable__label-arrow:hover:before {color: black;}#sk-container-id-3 div.sk-estimator:hover label.sk-toggleable__label-arrow:before {color: black;}#sk-container-id-3 div.sk-toggleable__content {max-height: 0;max-width: 0;overflow: hidden;text-align: left;background-color: #f0f8ff;}#sk-container-id-3 div.sk-toggleable__content pre {margin: 0.2em;color: black;border-radius: 0.25em;background-color: #f0f8ff;}#sk-container-id-3 input.sk-toggleable__control:checked~div.sk-toggleable__content {max-height: 200px;max-width: 100%;overflow: auto;}#sk-container-id-3 input.sk-toggleable__control:checked~label.sk-toggleable__label-arrow:before {content: \"▾\";}#sk-container-id-3 div.sk-estimator input.sk-toggleable__control:checked~label.sk-toggleable__label {background-color: #d4ebff;}#sk-container-id-3 div.sk-label input.sk-toggleable__control:checked~label.sk-toggleable__label {background-color: #d4ebff;}#sk-container-id-3 input.sk-hidden--visually {border: 0;clip: rect(1px 1px 1px 1px);clip: rect(1px, 1px, 1px, 1px);height: 1px;margin: -1px;overflow: hidden;padding: 0;position: absolute;width: 1px;}#sk-container-id-3 div.sk-estimator {font-family: monospace;background-color: #f0f8ff;border: 1px dotted black;border-radius: 0.25em;box-sizing: border-box;margin-bottom: 0.5em;}#sk-container-id-3 div.sk-estimator:hover {background-color: #d4ebff;}#sk-container-id-3 div.sk-parallel-item::after {content: \"\";width: 100%;border-bottom: 1px solid gray;flex-grow: 1;}#sk-container-id-3 div.sk-label:hover label.sk-toggleable__label {background-color: #d4ebff;}#sk-container-id-3 div.sk-serial::before {content: \"\";position: absolute;border-left: 1px solid gray;box-sizing: border-box;top: 0;bottom: 0;left: 50%;z-index: 0;}#sk-container-id-3 div.sk-serial {display: flex;flex-direction: column;align-items: center;background-color: white;padding-right: 0.2em;padding-left: 0.2em;position: relative;}#sk-container-id-3 div.sk-item {position: relative;z-index: 1;}#sk-container-id-3 div.sk-parallel {display: flex;align-items: stretch;justify-content: center;background-color: white;position: relative;}#sk-container-id-3 div.sk-item::before, #sk-container-id-3 div.sk-parallel-item::before {content: \"\";position: absolute;border-left: 1px solid gray;box-sizing: border-box;top: 0;bottom: 0;left: 50%;z-index: -1;}#sk-container-id-3 div.sk-parallel-item {display: flex;flex-direction: column;z-index: 1;position: relative;background-color: white;}#sk-container-id-3 div.sk-parallel-item:first-child::after {align-self: flex-end;width: 50%;}#sk-container-id-3 div.sk-parallel-item:last-child::after {align-self: flex-start;width: 50%;}#sk-container-id-3 div.sk-parallel-item:only-child::after {width: 0;}#sk-container-id-3 div.sk-dashed-wrapped {border: 1px dashed gray;margin: 0 0.4em 0.5em 0.4em;box-sizing: border-box;padding-bottom: 0.4em;background-color: white;}#sk-container-id-3 div.sk-label label {font-family: monospace;font-weight: bold;display: inline-block;line-height: 1.2em;}#sk-container-id-3 div.sk-label-container {text-align: center;}#sk-container-id-3 div.sk-container {/* jupyter's `normalize.less` sets `[hidden] { display: none; }` but bootstrap.min.css set `[hidden] { display: none !important; }` so we also need the `!important` here to be able to override the default hidden behavior on the sphinx rendered scikit-learn.org. See: https://github.com/scikit-learn/scikit-learn/issues/21755 */display: inline-block !important;position: relative;}#sk-container-id-3 div.sk-text-repr-fallback {display: none;}</style><div id=\"sk-container-id-3\" class=\"sk-top-container\"><div class=\"sk-text-repr-fallback\"><pre>XGBClassifier(base_score=None, booster=None, callbacks=None,\n",
       "              colsample_bylevel=None, colsample_bynode=None,\n",
       "              colsample_bytree=0.5, early_stopping_rounds=None,\n",
       "              enable_categorical=False, eval_metric=None, feature_types=None,\n",
       "              gamma=None, gpu_id=None, grow_policy=None, importance_type=None,\n",
       "              interaction_constraints=None, learning_rate=0.1, max_bin=None,\n",
       "              max_cat_threshold=None, max_cat_to_onehot=None,\n",
       "              max_delta_step=None, max_depth=None, max_leaves=None,\n",
       "              min_child_weight=None, missing=nan, monotone_constraints=None,\n",
       "              n_estimators=300, n_jobs=None, num_parallel_tree=None,\n",
       "              predictor=None, random_state=42, ...)</pre><b>In a Jupyter environment, please rerun this cell to show the HTML representation or trust the notebook. <br />On GitHub, the HTML representation is unable to render, please try loading this page with nbviewer.org.</b></div><div class=\"sk-container\" hidden><div class=\"sk-item\"><div class=\"sk-estimator sk-toggleable\"><input class=\"sk-toggleable__control sk-hidden--visually\" id=\"sk-estimator-id-3\" type=\"checkbox\" checked><label for=\"sk-estimator-id-3\" class=\"sk-toggleable__label sk-toggleable__label-arrow\">XGBClassifier</label><div class=\"sk-toggleable__content\"><pre>XGBClassifier(base_score=None, booster=None, callbacks=None,\n",
       "              colsample_bylevel=None, colsample_bynode=None,\n",
       "              colsample_bytree=0.5, early_stopping_rounds=None,\n",
       "              enable_categorical=False, eval_metric=None, feature_types=None,\n",
       "              gamma=None, gpu_id=None, grow_policy=None, importance_type=None,\n",
       "              interaction_constraints=None, learning_rate=0.1, max_bin=None,\n",
       "              max_cat_threshold=None, max_cat_to_onehot=None,\n",
       "              max_delta_step=None, max_depth=None, max_leaves=None,\n",
       "              min_child_weight=None, missing=nan, monotone_constraints=None,\n",
       "              n_estimators=300, n_jobs=None, num_parallel_tree=None,\n",
       "              predictor=None, random_state=42, ...)</pre></div></div></div></div></div>"
      ],
      "text/plain": [
       "XGBClassifier(base_score=None, booster=None, callbacks=None,\n",
       "              colsample_bylevel=None, colsample_bynode=None,\n",
       "              colsample_bytree=0.5, early_stopping_rounds=None,\n",
       "              enable_categorical=False, eval_metric=None, feature_types=None,\n",
       "              gamma=None, gpu_id=None, grow_policy=None, importance_type=None,\n",
       "              interaction_constraints=None, learning_rate=0.1, max_bin=None,\n",
       "              max_cat_threshold=None, max_cat_to_onehot=None,\n",
       "              max_delta_step=None, max_depth=None, max_leaves=None,\n",
       "              min_child_weight=None, missing=nan, monotone_constraints=None,\n",
       "              n_estimators=300, n_jobs=None, num_parallel_tree=None,\n",
       "              predictor=None, random_state=42, ...)"
      ]
     },
     "execution_count": 54,
     "metadata": {},
     "output_type": "execute_result"
    }
   ],
   "source": [
    "bestparams = {'learning_rate': 0.1,\n",
    "          'subsample': 0.5,\n",
    "          'colsample_bytree':0.5,\n",
    "          'scale_pos_weight': 10,\n",
    "          'random_state': 42}\n",
    "\n",
    "# Set the number of trees\n",
    "num_trees = 300\n",
    "\n",
    "# Build the XGBoost model\n",
    "xgb_model_best = xgb.XGBClassifier(n_estimators=num_trees, **bestparams)\n",
    "xgb_model_best.fit(X_train,Y_train)"
   ]
  },
  {
   "cell_type": "code",
   "execution_count": null,
   "id": "6541cb39",
   "metadata": {},
   "outputs": [],
   "source": []
  }
 ],
 "metadata": {
  "kernelspec": {
   "display_name": "Python 3 (ipykernel)",
   "language": "python",
   "name": "python3"
  },
  "language_info": {
   "codemirror_mode": {
    "name": "ipython",
    "version": 3
   },
   "file_extension": ".py",
   "mimetype": "text/x-python",
   "name": "python",
   "nbconvert_exporter": "python",
   "pygments_lexer": "ipython3",
   "version": "3.11.2"
  }
 },
 "nbformat": 4,
 "nbformat_minor": 5
}
